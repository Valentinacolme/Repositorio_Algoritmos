{
  "nbformat": 4,
  "nbformat_minor": 0,
  "metadata": {
    "colab": {
      "name": "VCOLMENARES_UNAL_lab1.ipynb",
      "provenance": [],
      "collapsed_sections": [
        "Hi6CU8-nL8kN",
        "1Xc9G9_sS2ju",
        "AN5Oa3DoS_Nf",
        "kSGzgNb2Womz",
        "QL6dNxwCXNEt",
        "s95xoRYMYaPD",
        "tgRDwiAsaMOL",
        "ydLddFAPaTOE",
        "wb2hry9dahE0",
        "4NusvdhBaxpZ",
        "Tef_X2wJbdhn"
      ]
    },
    "kernelspec": {
      "display_name": "Python 3",
      "language": "python",
      "name": "python3"
    },
    "language_info": {
      "codemirror_mode": {
        "name": "ipython",
        "version": 3
      },
      "file_extension": ".py",
      "mimetype": "text/x-python",
      "name": "python",
      "nbconvert_exporter": "python",
      "pygments_lexer": "ipython3",
      "version": "3.6.4"
    }
  },
  "cells": [
    {
      "cell_type": "markdown",
      "source": [
        "<div align=\"center\">\n",
        "<img style=\"display: block; margin: auto;\" alt=\"photo\" src=\"https://cdn.quantconnect.com/web/i/icon.png\">\n",
        "\n",
        "Quantconnect\n",
        "\n",
        "Introduction to Financial Python\n",
        "</div>\n",
        "\n",
        "# 01 Data Types and Data Structures\n",
        "\n",
        "# Introduction\n",
        "\n",
        "This tutorial provides a basic introduction to the Python programming language. If you are new to Python, you should run the code snippets while reading this tutorial. If you are an advanced Python user, please feel free to skip this chapter.\n",
        "\n",
        "# Basic Variable Types\n",
        "The basic types of variables in Python are: strings, integers, floating point numbers and booleans.\n",
        "\n",
        "Strings in python are identified as a contiguous set of characters represented in either single quotes (' ') or double quotes (\" \")."
      ],
      "metadata": {
        "id": "Hi6CU8-nL8kN"
      }
    },
    {
      "cell_type": "code",
      "metadata": {
        "colab": {
          "base_uri": "https://localhost:8080/"
        },
        "id": "N5t-UrcfOqid",
        "outputId": "bedd41e7-3613-42d9-8d13-2d3d0ba49ed0"
      },
      "source": [
        "string1 = 'Bienvenido a' #Declaración de variable de tipo String\n",
        "string2 = \"#MiPrimerTrabajo\"\n",
        "print(string1 + ' ' + string2 + ' en Colab') #Impresión de variables y concatenación de Strings"
      ],
      "execution_count": null,
      "outputs": [
        {
          "output_type": "stream",
          "name": "stdout",
          "text": [
            "Bienvenido a #MiPrimerTrabajo en Colab\n"
          ]
        }
      ]
    },
    {
      "cell_type": "markdown",
      "metadata": {
        "id": "bXHnxZyHSd1M"
      },
      "source": [
        "An integer is a round number with no values after the decimal point."
      ]
    },
    {
      "cell_type": "code",
      "metadata": {
        "colab": {
          "base_uri": "https://localhost:8080/"
        },
        "id": "pNjuz3toOqif",
        "outputId": "af6f25b2-246e-497a-f1ca-7c6c21238720"
      },
      "source": [
        "my_int = -565463653456653654 #Declaracion de variable de tipo entero\n",
        "print(my_int) \n",
        "print(type(my_int)) #Imprime el tipo de variable"
      ],
      "execution_count": null,
      "outputs": [
        {
          "output_type": "stream",
          "name": "stdout",
          "text": [
            "-565463653456653654\n",
            "<class 'int'>\n"
          ]
        }
      ]
    },
    {
      "cell_type": "markdown",
      "metadata": {
        "id": "_1ZanWrYSnzF"
      },
      "source": [
        "The built-in function int() can convert a string into an integer."
      ]
    },
    {
      "cell_type": "code",
      "metadata": {
        "colab": {
          "base_uri": "https://localhost:8080/"
        },
        "id": "zPwGb20FOqif",
        "outputId": "3b85d024-304e-4746-e143-116defd18951"
      },
      "source": [
        "my_string = \"890\"\n",
        "print(type(my_string))\n",
        "my_int = int(my_string) #int() convierte un string a entero\n",
        "print(type(my_int))"
      ],
      "execution_count": null,
      "outputs": [
        {
          "output_type": "stream",
          "name": "stdout",
          "text": [
            "<class 'str'>\n",
            "<class 'int'>\n"
          ]
        }
      ]
    },
    {
      "cell_type": "markdown",
      "metadata": {
        "id": "WqMDPDTHSrE9"
      },
      "source": [
        "A floating point number, or a float, is a real number in mathematics. In Python we need to include a value after a decimal point to define it as a float"
      ]
    },
    {
      "cell_type": "code",
      "metadata": {
        "colab": {
          "base_uri": "https://localhost:8080/"
        },
        "id": "otCzKKW9Oqig",
        "outputId": "af5310ef-95cd-4c80-efba-d5a5909e745f"
      },
      "source": [
        "my_string = \"689\"\n",
        "my_float = float(my_string) #float() convierte un string a flotante\n",
        "print(type(my_float))"
      ],
      "execution_count": null,
      "outputs": [
        {
          "output_type": "stream",
          "name": "stdout",
          "text": [
            "<class 'float'>\n"
          ]
        }
      ]
    },
    {
      "cell_type": "markdown",
      "metadata": {
        "id": "2iuyv8Q7StTJ"
      },
      "source": [
        "As you can see above, if we don't include a decimal value, the variable would be defined as an integer. The built-in function float() can convert a string or an integer into a float."
      ]
    },
    {
      "cell_type": "code",
      "metadata": {
        "colab": {
          "base_uri": "https://localhost:8080/"
        },
        "id": "wwLw5VthOqig",
        "outputId": "e9689da5-a061-4078-d79e-ae131aba6843"
      },
      "source": [
        "my_bool = True #Declaración variable de tipo booleana\n",
        "print(my_bool) \n",
        "print(type(my_bool)) "
      ],
      "execution_count": null,
      "outputs": [
        {
          "output_type": "stream",
          "name": "stdout",
          "text": [
            "True\n",
            "<class 'bool'>\n"
          ]
        }
      ]
    },
    {
      "cell_type": "markdown",
      "metadata": {
        "id": "bnGMwH21Szr_"
      },
      "source": [
        "A boolean, or bool, is a binary variable. Its value can only be True or False. It is useful when we do some logic operations, which would be covered in our next chapter."
      ]
    },
    {
      "cell_type": "code",
      "metadata": {
        "colab": {
          "base_uri": "https://localhost:8080/"
        },
        "id": "DMa6pDl5Oqig",
        "outputId": "d842c785-ef0f-4a82-ed36-9ec4ef3ae9cf"
      },
      "source": [
        "print(\"Addition \", 4+3) #Imprime suma\n",
        "print(\"Subtraction \", 7-5) #Imprime resta\n",
        "print(\"Multiplication \", 4*5) #Imprime multiplicación\n",
        "print(\"Division \", 9/3) #Imprime division\n",
        "print('exponent', 5**3) #Imprime potencia"
      ],
      "execution_count": null,
      "outputs": [
        {
          "output_type": "stream",
          "name": "stdout",
          "text": [
            "Addition  7\n",
            "Subtraction  2\n",
            "Multiplication  20\n",
            "Division  3.0\n",
            "exponent 125\n"
          ]
        }
      ]
    },
    {
      "cell_type": "markdown",
      "metadata": {
        "id": "1Xc9G9_sS2ju"
      },
      "source": [
        "# Basic Math Operations\n",
        "\n",
        "The basic math operators in python are demonstrated below:"
      ]
    },
    {
      "cell_type": "code",
      "metadata": {
        "colab": {
          "base_uri": "https://localhost:8080/"
        },
        "id": "KE9gUryAOqig",
        "outputId": "1c79334c-009f-4b7a-fbc8-626bb24cf6c9"
      },
      "source": [
        "print(8/4) #Division retorna float\n",
        "print(3.0/4) "
      ],
      "execution_count": null,
      "outputs": [
        {
          "output_type": "stream",
          "name": "stdout",
          "text": [
            "2.0\n",
            "0.75\n"
          ]
        }
      ]
    },
    {
      "cell_type": "markdown",
      "metadata": {
        "id": "AN5Oa3DoS_Nf"
      },
      "source": [
        "# Data Collections\n",
        "\n",
        "## List\n",
        "A list is an ordered collection of values. A list is mutable, which means you can change a list's value without changing the list itself. Creating a list is simply putting different comma-separated values between square brackets."
      ]
    },
    {
      "cell_type": "code",
      "metadata": {
        "colab": {
          "base_uri": "https://localhost:8080/"
        },
        "id": "-tQdNqCvOqig",
        "outputId": "3c06625f-a622-44f9-940a-f40c7c4e2b4f"
      },
      "source": [
        "my_list = ['Valentina', 'Colmenares', 27,9,2000] #Declaración de variable de tipo lista\n",
        "print(my_list) #Imprime la lista"
      ],
      "execution_count": null,
      "outputs": [
        {
          "output_type": "stream",
          "name": "stdout",
          "text": [
            "['Valentina', 'Colmenares', 27, 9, 2000]\n"
          ]
        }
      ]
    },
    {
      "cell_type": "markdown",
      "metadata": {
        "id": "1O0TsgZCTHrM"
      },
      "source": [
        "The values in a list are called \"elements\". We can access list elements by indexing. Python index starts from 0. So if you have a list of length n, the index of the first element will be 0, and that of the last element will be n − 1. By the way, the length of a list can be obtained by the built-in function len()."
      ]
    },
    {
      "cell_type": "code",
      "metadata": {
        "colab": {
          "base_uri": "https://localhost:8080/"
        },
        "id": "QhuVhRR5Oqih",
        "outputId": "bf5143e2-78d3-4cea-8797-8c8cce985057"
      },
      "source": [
        "my_list = ['Valentina', 'Colmenares', 27,9,2000]\n",
        "print(len(my_list)) #Imprime longitud la lista\n",
        "print(my_list[0]) #Imprime dato de la primera posición de la lista\n",
        "print(my_list[len(my_list) -1]) #Imprime dato de la última posición de la lista"
      ],
      "execution_count": null,
      "outputs": [
        {
          "output_type": "stream",
          "name": "stdout",
          "text": [
            "5\n",
            "Valentina\n",
            "2000\n"
          ]
        }
      ]
    },
    {
      "cell_type": "markdown",
      "metadata": {
        "id": "jgSZy1VGTKSc"
      },
      "source": [
        "You can also change the elements in the list by accessing an index and assigning a new value."
      ]
    },
    {
      "cell_type": "code",
      "metadata": {
        "colab": {
          "base_uri": "https://localhost:8080/"
        },
        "id": "NQBNLjAvOqih",
        "outputId": "5ded636e-c2a3-41f1-98c6-fd5150e63654"
      },
      "source": [
        "my_list = ['Valentina', 'Colmenares', 27,9,2000]\n",
        "my_list[2] = 'Leguizamo' #Cambia el dato en la posición 2 de la lista\n",
        "print(my_list) "
      ],
      "execution_count": null,
      "outputs": [
        {
          "output_type": "stream",
          "name": "stdout",
          "text": [
            "['Valentina', 'Colmenares', 'Leguizamo', 9, 2000]\n"
          ]
        }
      ]
    },
    {
      "cell_type": "markdown",
      "metadata": {
        "id": "EQPs5ojoTVrk"
      },
      "source": [
        "A list can also be sliced with a colon:"
      ]
    },
    {
      "cell_type": "code",
      "metadata": {
        "colab": {
          "base_uri": "https://localhost:8080/"
        },
        "id": "keNX2RbtOqii",
        "outputId": "3948efae-d495-4bc8-c6de-222200b56cbb"
      },
      "source": [
        "my_list = ['Valentina', 'Colmenares', 27,9,2000]\n",
        "print(my_list[1:4]) #Imprime los elementos de la lista desde la posición 1 a la 3"
      ],
      "execution_count": null,
      "outputs": [
        {
          "output_type": "stream",
          "name": "stdout",
          "text": [
            "['Colmenares', 27, 9]\n"
          ]
        }
      ]
    },
    {
      "cell_type": "markdown",
      "metadata": {
        "id": "AZqQd0K8TYul"
      },
      "source": [
        "The slice starts from the first element indicated, but excludes the last element indicated. Here we select all elements starting from index 1, which refers to the second element:"
      ]
    },
    {
      "cell_type": "code",
      "metadata": {
        "colab": {
          "base_uri": "https://localhost:8080/"
        },
        "id": "0-76sLfkOqii",
        "outputId": "9fdc5de3-b036-4e3f-8b1f-aacf09c1afa5"
      },
      "source": [
        "print(my_list[2:]) #Imprime los elementos de la lista desde la posición 2 a la última posición"
      ],
      "execution_count": null,
      "outputs": [
        {
          "output_type": "stream",
          "name": "stdout",
          "text": [
            "[27, 9, 2000]\n"
          ]
        }
      ]
    },
    {
      "cell_type": "markdown",
      "metadata": {
        "id": "XBqvhUdZVKWs"
      },
      "source": [
        "And all elements up to but excluding index 3:"
      ]
    },
    {
      "cell_type": "code",
      "metadata": {
        "colab": {
          "base_uri": "https://localhost:8080/"
        },
        "id": "5NWr75L9Oqii",
        "outputId": "b065413e-86bc-4ab4-b35b-8d6b976d7613"
      },
      "source": [
        "print(my_list[:3]) #Imprime los tres primeros números de la lista"
      ],
      "execution_count": null,
      "outputs": [
        {
          "output_type": "stream",
          "name": "stdout",
          "text": [
            "['Valentina', 'Colmenares', 27]\n"
          ]
        }
      ]
    },
    {
      "cell_type": "markdown",
      "metadata": {
        "id": "eAFmM6bkTZz9"
      },
      "source": [
        "If you wish to add or remove an element from a list, you can use the append() and remove() methods for lists as follows:"
      ]
    },
    {
      "cell_type": "code",
      "metadata": {
        "colab": {
          "base_uri": "https://localhost:8080/"
        },
        "id": "pHmgTPElTo19",
        "outputId": "1b34c60d-c06e-4557-d93b-e667040d521f"
      },
      "source": [
        "my_list = ['Holis', 'Jefa']\n",
        "my_list.append('Buenas') #Agrega un elemento al final de la lista\n",
        "print(my_list) "
      ],
      "execution_count": null,
      "outputs": [
        {
          "output_type": "stream",
          "name": "stdout",
          "text": [
            "['Holis', 'Jefa', 'Buenas']\n"
          ]
        }
      ]
    },
    {
      "cell_type": "code",
      "metadata": {
        "colab": {
          "base_uri": "https://localhost:8080/"
        },
        "id": "4C4U1Yf0Tr8l",
        "outputId": "1e6927d3-f1d0-48e5-ae51-d7a997e288b0"
      },
      "source": [
        "my_list.remove('Jefa') #Elimina el elemento especificado de la lista\n",
        "print(my_list)"
      ],
      "execution_count": null,
      "outputs": [
        {
          "output_type": "stream",
          "name": "stdout",
          "text": [
            "['Holis', 'Buenas']\n"
          ]
        }
      ]
    },
    {
      "cell_type": "markdown",
      "metadata": {
        "id": "11W1gG-cVmOU"
      },
      "source": [
        "When there are repeated instances of \"Hello\", the first one is removed.\n",
        "\n",
        "## Tuple\n",
        "A tuple is a data structure type similar to a list. The difference is that a tuple is immutable, which means you can't change the elements in it once it's defined. We create a tuple by putting comma-separated values between parentheses."
      ]
    },
    {
      "cell_type": "code",
      "metadata": {
        "collapsed": true,
        "id": "vPmn6BAaOqii"
      },
      "source": [
        "my_tuple = ('Bienvenido','a','Algoritmos') #Declaración de tupla"
      ],
      "execution_count": null,
      "outputs": []
    },
    {
      "cell_type": "markdown",
      "metadata": {
        "id": "zMIme4dDV0Wz"
      },
      "source": [
        "Just like a list, a tuple can be sliced by using index."
      ]
    },
    {
      "cell_type": "code",
      "metadata": {
        "colab": {
          "base_uri": "https://localhost:8080/"
        },
        "id": "8P-ddO0sOqii",
        "outputId": "83870532-3ab1-4189-b5a5-75cd8f043eda"
      },
      "source": [
        "my_tuple = ('Bienvenido','a','Algoritmos') \n",
        "print(my_tuple[0:]) #imprime los elementos de la posición 0 hasta la última posición"
      ],
      "execution_count": null,
      "outputs": [
        {
          "output_type": "stream",
          "name": "stdout",
          "text": [
            "('Bienvenido', 'a', 'Algoritmos')\n"
          ]
        }
      ]
    },
    {
      "cell_type": "markdown",
      "metadata": {
        "id": "l2JqbusAV1Y2"
      },
      "source": [
        "## Set\n",
        "A set is an **unordered**  collection with **no duplicate** elements. The built-in function **set()** can be used to create sets."
      ]
    },
    {
      "cell_type": "code",
      "metadata": {
        "colab": {
          "base_uri": "https://localhost:8080/"
        },
        "id": "Plau8r-UOqij",
        "outputId": "825b90a7-92b6-46f8-d051-1675b5b9480f"
      },
      "source": [
        "stock_list = ['JUAN','EVA','DAVID','JUAN','DAVID','LUIS','FRED','EVA']\n",
        "stock_set = set(stock_list) #set() elimina los elementos duplicados de una lista\n",
        "print(stock_set)"
      ],
      "execution_count": null,
      "outputs": [
        {
          "output_type": "stream",
          "name": "stdout",
          "text": [
            "{'JUAN', 'EVA', 'DAVID', 'FRED', 'LUIS'}\n"
          ]
        }
      ]
    },
    {
      "cell_type": "markdown",
      "metadata": {
        "id": "Jyb4GGIoWIHk"
      },
      "source": [
        "Set is an easy way to remove duplicate elements from a list.\n",
        "\n",
        "##Dictionary\n",
        "A dictionary is one of the most important data structures in Python. Unlike sequences which are indexed by integers, dictionaries are indexed by keys which can be either strings or floats.\n",
        "\n",
        "A dictionary is an **unordered** collection of key : value pairs, with the requirement that the keys are unique. We create a dictionary by placing a comma-separated list of key : value pairs within the braces."
      ]
    },
    {
      "cell_type": "code",
      "metadata": {
        "collapsed": true,
        "id": "36mTe5BaOqij"
      },
      "source": [
        "my_dic = {'JUAN':'Usaquen', 'IVAN':'Suba', 'GABRIELA':'Fontibon'} #Declaración de diccionario"
      ],
      "execution_count": null,
      "outputs": []
    },
    {
      "cell_type": "code",
      "metadata": {
        "colab": {
          "base_uri": "https://localhost:8080/"
        },
        "id": "KUfdVf43Oqij",
        "outputId": "97975472-0ad5-475a-fb2a-039411fc49a5"
      },
      "source": [
        "print(my_dic['GABRIELA']) #Imprime el valor de la llave 'GABRIELA' declarada en el diccionario"
      ],
      "execution_count": null,
      "outputs": [
        {
          "output_type": "stream",
          "name": "stdout",
          "text": [
            "Engativa\n"
          ]
        }
      ]
    },
    {
      "cell_type": "markdown",
      "metadata": {
        "id": "gSicoNqDWP4c"
      },
      "source": [
        "After defining a dictionary, we can access any value by indicating its key in brackets."
      ]
    },
    {
      "cell_type": "code",
      "metadata": {
        "colab": {
          "base_uri": "https://localhost:8080/"
        },
        "id": "IrTZdq9FOqij",
        "outputId": "d0caf37d-fef7-4bab-b1c7-b4e744adf657"
      },
      "source": [
        "my_dic['GABRIELA'] = 'Engativa' #Cambio del valor de la llave engativa\n",
        "print(my_dic['GABRIELA']) #Imprime el valor de la llave 'GABRIELA' cambiada anteriormente"
      ],
      "execution_count": null,
      "outputs": [
        {
          "output_type": "stream",
          "name": "stdout",
          "text": [
            "Engativa\n"
          ]
        }
      ]
    },
    {
      "cell_type": "markdown",
      "metadata": {
        "id": "M9sDsTEMWQvc"
      },
      "source": [
        "We can also change the value associated with a specified key:"
      ]
    },
    {
      "cell_type": "code",
      "metadata": {
        "colab": {
          "base_uri": "https://localhost:8080/"
        },
        "id": "lupRHf1_Oqij",
        "outputId": "0a777fc3-c32a-4607-8f4f-68dac9e16108"
      },
      "source": [
        "print(my_dic.keys()) #Imprime las llaves del diccionario"
      ],
      "execution_count": null,
      "outputs": [
        {
          "output_type": "stream",
          "name": "stdout",
          "text": [
            "dict_keys(['JUAN', 'IVAN', 'GABRIELA'])\n"
          ]
        }
      ]
    },
    {
      "cell_type": "markdown",
      "metadata": {
        "id": "VPuDinlwWS9D"
      },
      "source": [
        "The built-in method of the dictionary object dict.keys() returns a list of all the keys used in the dictionary."
      ]
    },
    {
      "cell_type": "markdown",
      "metadata": {
        "id": "kSGzgNb2Womz"
      },
      "source": [
        "# Common String Operations\n",
        "A string is an immutable sequence of characters. It can be sliced by index just like a tuple:"
      ]
    },
    {
      "cell_type": "code",
      "metadata": {
        "colab": {
          "base_uri": "https://localhost:8080/"
        },
        "id": "xPojDnm9Oqik",
        "outputId": "9465eecc-b9de-4b74-9708-de4f4a94e5d5"
      },
      "source": [
        "my_str = 'Bienvenido a Mi Mundo' \n",
        "print(my_str[12:]) # imprime desde la posicion 12 de la cadena"
      ],
      "execution_count": null,
      "outputs": [
        {
          "output_type": "stream",
          "name": "stdout",
          "text": [
            " Mi Mundo\n"
          ]
        }
      ]
    },
    {
      "cell_type": "markdown",
      "metadata": {
        "id": "wuJYy7tvWtM7"
      },
      "source": [
        "There are many methods associated with strings. We can use string.count() to count the occurrences of a character in a string, use string.find() to return the index of a specific character, and use string.replace() to replace characters"
      ]
    },
    {
      "cell_type": "code",
      "metadata": {
        "colab": {
          "base_uri": "https://localhost:8080/"
        },
        "id": "u9deZq1SOqik",
        "outputId": "e09890b6-02d3-404a-f34c-5b39db37b7df"
      },
      "source": [
        "print('Anita lava la tina'.count('la')) #imprime las veces que aparecen la cadena indicada\n",
        "print('ne lo sé, dime tú'.find('é')) #imprime la posición en donde se encuentra por primera vez el caracter indicado a buscar\n",
        "print('que es eso, eso es queso!'.replace('que','what')) #reemplaza las partes de la cadena donde aparece la primera cadena por la segunda cadena indicadas en replace()"
      ],
      "execution_count": null,
      "outputs": [
        {
          "output_type": "stream",
          "name": "stdout",
          "text": [
            "2\n",
            "7\n",
            "what es eso, eso es whatso!\n"
          ]
        }
      ]
    },
    {
      "cell_type": "markdown",
      "metadata": {
        "id": "sJPn3rkvWwHN"
      },
      "source": [
        "The most commonly used method for strings is string.split(). This method will split the string by the indicated character and return a list:"
      ]
    },
    {
      "cell_type": "code",
      "metadata": {
        "colab": {
          "base_uri": "https://localhost:8080/"
        },
        "id": "hbIaFLFHOqik",
        "outputId": "61305345-6200-4bbb-b0fb-c60b495c5c15"
      },
      "source": [
        "Time = '2022-03-14 12:08:41'\n",
        "splited_list = Time.split(' ') #crea una lista de la cadena Time separando los elementos cada vez que haya un espacio\n",
        "date = splited_list[0] #guarda el dato de la posición 0 de la lista en la variable date \n",
        "time = splited_list[1] #guarda el dato de la posición 1 de la lista en la variable time \n",
        "print(date, time) \n",
        "hour = time.split(':')[1] #guarda en la variable hour el valor de la posición 1 de la lista que se crea con time.split() separando los elementos cada vez que haya \":\"\n",
        "print(hour)"
      ],
      "execution_count": null,
      "outputs": [
        {
          "output_type": "stream",
          "name": "stdout",
          "text": [
            "2022-03-14 12:08:41\n",
            "08\n"
          ]
        }
      ]
    },
    {
      "cell_type": "markdown",
      "metadata": {
        "id": "9cJQGk96WyVc"
      },
      "source": [
        "We can replace parts of a string by our variable. This is called string formatting."
      ]
    },
    {
      "cell_type": "code",
      "metadata": {
        "colab": {
          "base_uri": "https://localhost:8080/"
        },
        "id": "-E_rIvv6Oqik",
        "outputId": "96bd4a55-122f-47cb-f3f7-39139fdafda6"
      },
      "source": [
        "my_time = 'Dia: {}, Mes: {}{}, Año:{}{}{}{}'.format('09','0','3','2','0','0','0') #imprime las cadenas indicadas en format() cada vez que haya un para de corchetes indicando la inserción {}\n",
        "print(my_time)"
      ],
      "execution_count": null,
      "outputs": [
        {
          "output_type": "stream",
          "name": "stdout",
          "text": [
            "Dia: 09, Mes: 03, Año:2000\n"
          ]
        }
      ]
    },
    {
      "cell_type": "markdown",
      "metadata": {
        "id": "1_NbVldpWzAs"
      },
      "source": [
        "Another way to format a string is to use the % symbol."
      ]
    },
    {
      "cell_type": "code",
      "metadata": {
        "colab": {
          "base_uri": "https://localhost:8080/"
        },
        "id": "4rZ4rkD2Oqik",
        "outputId": "a1c633f5-9723-4c97-c2d3-42d45781582c"
      },
      "source": [
        "print('the euler number is %f'%2.7182) # %f imprime el número con un formato de seis decimales\n",
        "print('%s to %s'%('Hola','my World')) # %s indica dónde hacer la inserción de las cadenas indicadas en %()"
      ],
      "execution_count": null,
      "outputs": [
        {
          "output_type": "stream",
          "name": "stdout",
          "text": [
            "the euler number is 2.718200\n",
            "Hola to my World\n"
          ]
        }
      ]
    },
    {
      "cell_type": "markdown",
      "metadata": {
        "id": "v_5cocrDW3MN"
      },
      "source": [
        "# Summary\n",
        "\n",
        "Weave seen the basic data types and data structures in Python. It's important to keep practicing to become familiar with these data structures. In the next tutorial, we will cover for and while loops and logical operations in Python."
      ]
    },
    {
      "cell_type": "markdown",
      "metadata": {
        "id": "QL6dNxwCXNEt"
      },
      "source": [
        "<div align=\"center\">\n",
        "<img style=\"display: block; margin: auto;\" alt=\"photo\" src=\"https://cdn.quantconnect.com/web/i/icon.png\">\n",
        "\n",
        "Quantconnect\n",
        "\n",
        "Introduction to Financial Python\n",
        "</div>\n",
        "\n",
        "# 02 Logical Operations and Loops\n",
        "\n",
        "# Introduction\n",
        "We discussed the basic data types and data structures in Python in the last tutorial. This chapter covers logical operations and loops in Python, which are very common in programming.\n",
        "\n",
        "# Logical Operations\n",
        "Like most programming languages, Python has comparison operators:"
      ]
    },
    {
      "cell_type": "code",
      "metadata": {
        "colab": {
          "base_uri": "https://localhost:8080/"
        },
        "id": "70Guys_rOv7a",
        "outputId": "af4f1fd3-78c1-49f0-eff1-01306b936fce"
      },
      "source": [
        "print(7 == 1) # == verifica si dos elemento son iguales\n",
        "print(7 < 7)  # < verifica si el primer elemento es estrictamente menor que el segundo elemento\n",
        "print(2 != -2) # != verifica si dos elementos son diferentes\n",
        "print(3 >= 3) # >= verifica si el primer elemento es mayor o igual al segundo elemento\n",
        "print(4 <= 3) # <= verifica si el primer elemento es menor o igual al segundo elemento"
      ],
      "execution_count": null,
      "outputs": [
        {
          "output_type": "stream",
          "name": "stdout",
          "text": [
            "False\n",
            "False\n",
            "True\n",
            "True\n",
            "False\n"
          ]
        }
      ]
    },
    {
      "cell_type": "markdown",
      "metadata": {
        "id": "8aFHYDj-YTXt"
      },
      "source": [
        "Each statement above has a boolean value, which must be either True or False, but not both.\n",
        "\n",
        "We can combine simple statements P and Q to form complex statements using logical operators:\n",
        "\n",
        "- The statement \"P and Q\" is true if both P and Q are true, otherwise it is false.\n",
        "- The statement \"P or Q\" is false if both P and Q are false, otherwise it is true.\n",
        "- The statement \"not P\" is true if P is false, and vice versa."
      ]
    },
    {
      "cell_type": "code",
      "metadata": {
        "colab": {
          "base_uri": "https://localhost:8080/"
        },
        "id": "O5YEEcUbOv7d",
        "outputId": "dfbc438a-e964-42c5-8310-385470d62e2d"
      },
      "source": [
        "print('hola' < 'ola' and 6 > 4) # and retorna true solo si ambas condicionales son verdaderas\n",
        "print(7 > 4 and 'perro' < 'gato') # and retorna false si almenos una de las condiciones es falsa\n",
        "print(1 > 8 or 6 < 4) # or retorna false solo si ambas condicionales son falsas\n",
        "print(1 < 8 or 9 < 0) # or retorna true si almenos una de las condicionales es verdadera"
      ],
      "execution_count": 10,
      "outputs": [
        {
          "output_type": "stream",
          "name": "stdout",
          "text": [
            "True\n",
            "False\n",
            "False\n",
            "True\n"
          ]
        }
      ]
    },
    {
      "cell_type": "markdown",
      "metadata": {
        "id": "Dy7yzoSXYXmL"
      },
      "source": [
        "When dealing with a very complex logical statement that involves in several statements, we can use brackets to separate and combine them."
      ]
    },
    {
      "cell_type": "code",
      "metadata": {
        "colab": {
          "base_uri": "https://localhost:8080/"
        },
        "id": "QZ-W2xJZOv7d",
        "outputId": "e4aa0c4d-7ee1-4503-87bd-eb6c70ee327c"
      },
      "source": [
        "print((6 > 4 or 2 < 6) and (2!=6 and 8>6) and not ( 6 < 4 or 2 < 6 and (2!=6 and 8>6))) #Declaración lógica con varios condicionales\n",
        "print(6 > 4 or 2 < 6 and (2!=6 and 8>6) and not ( 6 < 4 or 2 < 6 and (2!=6 and 8>6)))"
      ],
      "execution_count": 14,
      "outputs": [
        {
          "output_type": "stream",
          "name": "stdout",
          "text": [
            "False\n",
            "True\n"
          ]
        }
      ]
    },
    {
      "cell_type": "markdown",
      "metadata": {
        "id": "s95xoRYMYaPD"
      },
      "source": [
        "Comparing the above two statements, we can see that it's wise to use brackets when we make a complex logical statement.\n",
        "\n",
        "# If Statement\n",
        "An if statement executes a segment of code only if its condition is true. A standard if statement consists of 3 segments: if, elif and else."
      ]
    },
    {
      "cell_type": "markdown",
      "metadata": {
        "id": "aRzMMitAaBOL"
      },
      "source": [
        "```python\n",
        "if statement1:\n",
        "    # if the statement1 is true, execute the code here.\n",
        "    # code.....\n",
        "    # code.....\n",
        "elif statement2:\n",
        "    # if the statement 1 is false, skip the codes above to this part.\n",
        "    # code......\n",
        "    # code......\n",
        "else:\n",
        "    # if none of the above statements is True, skip to this part\n",
        "    # code......\n",
        "```"
      ]
    },
    {
      "cell_type": "markdown",
      "metadata": {
        "id": "l59R2AS8aH2K"
      },
      "source": [
        "An if statement doesn't necessarily has elif and else part. If it's not specified, the indented block of code will be executed when the condition is true, otherwise the whole if statement will be skipped."
      ]
    },
    {
      "cell_type": "code",
      "metadata": {
        "colab": {
          "base_uri": "https://localhost:8080/"
        },
        "id": "FZ5GoTXfOv7e",
        "outputId": "43bee0fa-a82f-4f98-a4a7-edd29f3be5cf"
      },
      "source": [
        "i = \"correcto\"\n",
        "if i == \"correcto\": # entra al if si la condicional se cumple\n",
        "    print('Entró, entonces imprime')"
      ],
      "execution_count": 15,
      "outputs": [
        {
          "output_type": "stream",
          "name": "stdout",
          "text": [
            "Entró, entonces imprime\n"
          ]
        }
      ]
    },
    {
      "cell_type": "markdown",
      "metadata": {
        "id": "nPNW-l5eaJn8"
      },
      "source": [
        "As we mentioned above, we can write some complex statements here:"
      ]
    },
    {
      "cell_type": "code",
      "metadata": {
        "colab": {
          "base_uri": "https://localhost:8080/"
        },
        "id": "gh-U6nMzOv7e",
        "outputId": "c448a6a3-fb53-4dd3-f5fb-505e2f279e3d"
      },
      "source": [
        "p = 'acer' > 'hacer' # declaracion de variable booleana\n",
        "q = 765 < 654\n",
        "if p and q:           # entra si ambas condicionales son verdaderas\n",
        "    print('p and q is true')\n",
        "elif p and not q:     # entra si la condicional p es verdadera y q es falsa\n",
        "    print('q is false')\n",
        "elif q and not p:     # entra si la condicional q es verdadera y p es falsa\n",
        "    print('p is false')\n",
        "else:                 # entra si ambas condicionales son falsas\n",
        "    print('None of p and q is true')"
      ],
      "execution_count": 19,
      "outputs": [
        {
          "output_type": "stream",
          "name": "stdout",
          "text": [
            "None of p and q is true\n"
          ]
        }
      ]
    },
    {
      "cell_type": "markdown",
      "metadata": {
        "id": "tgRDwiAsaMOL"
      },
      "source": [
        "# Loop Structure\n",
        "Loops are an essential part of programming. The \"for\" and \"while\" loops run a block of code repeatedly.\n",
        "\n",
        "## While Loop\n",
        "A \"while\" loop will run repeatedly until a certain condition has been met."
      ]
    },
    {
      "cell_type": "code",
      "metadata": {
        "colab": {
          "base_uri": "https://localhost:8080/"
        },
        "id": "uQLau8d5Ov7f",
        "outputId": "c763aa0a-acca-4f51-c5e3-4c4a0dd36558"
      },
      "source": [
        "cadena = \"AA\"\n",
        "while len(cadena) < 10:  #Repite las lineas de código identadas hasta que la condicional sea falsa\n",
        "    print(cadena)\n",
        "    cadena += 'la' # += suma a la variable la cantidad o caracter indicados"
      ],
      "execution_count": 23,
      "outputs": [
        {
          "output_type": "stream",
          "name": "stdout",
          "text": [
            "AA\n",
            "AAla\n",
            "AAlala\n",
            "AAlalala\n"
          ]
        }
      ]
    },
    {
      "cell_type": "markdown",
      "metadata": {
        "id": "ydLddFAPaTOE"
      },
      "source": [
        "When making a while loop, we need to ensure that something changes from iteration to iteration so that the while loop will terminate, otherwise, it will run forever. Here we used i += 1 (short for i = i + 1) to make i larger after each iteration. This is the most commonly used method to control a while loop.\n",
        "\n",
        "## For Loop\n",
        "A \"for\" loop will iterate over a sequence of value and terminate when the sequence has ended."
      ]
    },
    {
      "cell_type": "code",
      "metadata": {
        "colab": {
          "base_uri": "https://localhost:8080/"
        },
        "id": "kt8Ie8u1Ov7f",
        "outputId": "43b9a070-1f8c-446f-ebdb-b209f503554a"
      },
      "source": [
        "for fruta in [\"mora\",\"fresa\",\"banano\",\"uva\"]: #Recorre la lista de números 1, 2, 3, 4 y 5 asignando cada valor a i e imprimiendolo\n",
        "    print(fruta)"
      ],
      "execution_count": 25,
      "outputs": [
        {
          "output_type": "stream",
          "name": "stdout",
          "text": [
            "mora\n",
            "fresa\n",
            "banano\n",
            "uva\n"
          ]
        }
      ]
    },
    {
      "cell_type": "markdown",
      "metadata": {
        "id": "yWStqpreaX-T"
      },
      "source": [
        "We can also add if statements in a for loop. Here is a real example from our pairs trading algorithm:"
      ]
    },
    {
      "cell_type": "code",
      "metadata": {
        "colab": {
          "base_uri": "https://localhost:8080/"
        },
        "id": "kElmffvFOv7f",
        "outputId": "54783c22-4f85-4c3f-a8a3-ccb1552d2a99"
      },
      "source": [
        "numeros = [0,1,3,4,5,6,8,9]\n",
        "posible = [2,5,7]\n",
        "noendos = []\n",
        "for i in numeros: # recorre la lista numeros\n",
        "    if i not in posible: # verifica si cada número de la lista numeros esta en la lista posible\n",
        "        noendos.append(i) # si el numero i no esta en la lista posible se agregara a la lista noendos\n",
        "print(noendos) #imprime la lista resultante noendos"
      ],
      "execution_count": 29,
      "outputs": [
        {
          "output_type": "stream",
          "name": "stdout",
          "text": [
            "[0, 1, 3, 4, 6, 8, 9]\n"
          ]
        }
      ]
    },
    {
      "cell_type": "markdown",
      "metadata": {
        "id": "wb2hry9dahE0"
      },
      "source": [
        "Here we iterated all the elements in the list 'stocks'. Later in this chapter, we will introduce a smarter way to do this, which is just a one-line code.\n",
        "\n",
        "## Break and continue\n",
        "These are two commonly used commands in a for loop. If \"break\" is triggered while a loop is executing, the loop will terminate immediately:"
      ]
    },
    {
      "cell_type": "code",
      "metadata": {
        "colab": {
          "base_uri": "https://localhost:8080/"
        },
        "id": "yF5wMVItOv7g",
        "outputId": "39857546-61d7-491e-f053-4c127e8a4620"
      },
      "source": [
        "redes = ['INSTAGRAM','FACEBOOK','TWITTER','PINTEREST','TIKTOK','VINES', 'SNAPCHAT', 'TELEGRAM']\n",
        "for red in redes: #Recorre la lista redes\n",
        "    print(red) #Imprime la red de la lista\n",
        "    if red == 'VINES': #Verifica si la red es igual a \"VINES\"\n",
        "        break #Si la red es \"VINES\" el bucle se detendrá"
      ],
      "execution_count": 31,
      "outputs": [
        {
          "output_type": "stream",
          "name": "stdout",
          "text": [
            "INSTAGRAM\n",
            "FACEBOOK\n",
            "TWITTER\n",
            "PINTEREST\n",
            "TIKTOK\n",
            "VINES\n"
          ]
        }
      ]
    },
    {
      "cell_type": "markdown",
      "metadata": {
        "id": "R0toxyp3ao0T"
      },
      "source": [
        "The \"continue\" command tells the loop to end this iteration and skip to the next iteration:"
      ]
    },
    {
      "cell_type": "code",
      "metadata": {
        "colab": {
          "base_uri": "https://localhost:8080/"
        },
        "id": "Stg-CH6IOv7g",
        "outputId": "640db763-bb4f-40f5-f12c-d3c6f0f0443c"
      },
      "source": [
        "redes = ['INSTAGRAM','FACEBOOK','TWITTER','PINTEREST','TIKTOK','VINES', 'SNAPCHAT', 'TELEGRAM']\n",
        "for i in redes: #Recorre la lista redes\n",
        "    if i == 'VINES': #Verifica si la red es igual a \"VINES\"\n",
        "        continue #Si la red es \"VINES\" terminará la iteración y continuará con el siguiente elemento de la lista redes\n",
        "    print(i)"
      ],
      "execution_count": 33,
      "outputs": [
        {
          "output_type": "stream",
          "name": "stdout",
          "text": [
            "INSTAGRAM\n",
            "FACEBOOK\n",
            "TWITTER\n",
            "PINTEREST\n",
            "TIKTOK\n",
            "SNAPCHAT\n",
            "TELEGRAM\n"
          ]
        }
      ]
    },
    {
      "cell_type": "markdown",
      "metadata": {
        "id": "4NusvdhBaxpZ"
      },
      "source": [
        "# List Comprehension\n",
        "List comprehension is a Pythonic way to create lists. Common applications are to make new lists where each element is the result of some operations applied to each member of another sequence. For example, if we want to create a list of squares using for loop:"
      ]
    },
    {
      "cell_type": "code",
      "metadata": {
        "colab": {
          "base_uri": "https://localhost:8080/"
        },
        "id": "bdxxeOABOv7h",
        "outputId": "ebde04b4-d524-4750-b850-33e5a7e5e7a2"
      },
      "source": [
        "fives = []\n",
        "for i in [1,2,3,4,5]: # Recorre la lista 1, 2, 3, 4, y 5\n",
        "    fives.append(5**i) # Agrega a la lista fives las potencias del 5 con los exponentes del 1 al 5\n",
        "print(fives)"
      ],
      "execution_count": 39,
      "outputs": [
        {
          "output_type": "stream",
          "name": "stdout",
          "text": [
            "[5, 25, 125, 625, 3125]\n"
          ]
        }
      ]
    },
    {
      "cell_type": "markdown",
      "metadata": {
        "id": "--KliJBOa1CC"
      },
      "source": [
        "Using list comprehension:"
      ]
    },
    {
      "cell_type": "code",
      "metadata": {
        "colab": {
          "base_uri": "https://localhost:8080/"
        },
        "id": "440-yjG8Ov7h",
        "outputId": "95032931-4d2a-479c-cbda-98bc47996e01"
      },
      "source": [
        "exponent = [1,2,3,4,5]\n",
        "sixes = [6**x for x in exponent] # Crea la lista de potencias de 6 tomando de exponente los elementos en la lista exponent\n",
        "print(sixes)"
      ],
      "execution_count": 40,
      "outputs": [
        {
          "output_type": "stream",
          "name": "stdout",
          "text": [
            "[6, 36, 216, 1296, 7776]\n"
          ]
        }
      ]
    },
    {
      "cell_type": "markdown",
      "metadata": {
        "id": "uMuCfR3ya3zT"
      },
      "source": [
        "Recall the example above where we used a for loop to select stocks. Here we use list comprehension:"
      ]
    },
    {
      "cell_type": "code",
      "metadata": {
        "colab": {
          "base_uri": "https://localhost:8080/"
        },
        "id": "ZGtCtog2Ov7h",
        "outputId": "a225f393-04be-473b-87d2-d950e7779449"
      },
      "source": [
        "redes = ['INSTAGRAM','FACEBOOK','TWITTER','PINTEREST','TIKTOK','VINES', 'SNAPCHAT', 'TELEGRAM']\n",
        "seleccion = ['PINTEREST','VSCO','SNAPCHAT']\n",
        "new_list = [x for x in redes if x in seleccion] # Crea la lista de los elementos de la lista redes que esten en la lista seleccion\n",
        "print(new_list)"
      ],
      "execution_count": 44,
      "outputs": [
        {
          "output_type": "stream",
          "name": "stdout",
          "text": [
            "['PINTEREST', 'SNAPCHAT']\n"
          ]
        }
      ]
    },
    {
      "cell_type": "markdown",
      "metadata": {
        "id": "EPeUv6Lia5oD"
      },
      "source": [
        "A list comprehension consists of square brackets containing an expression followed by a \"for\" clause, and possibly \"for\" or \"if\" clauses. For example:"
      ]
    },
    {
      "cell_type": "code",
      "metadata": {
        "colab": {
          "base_uri": "https://localhost:8080/"
        },
        "id": "O1AMB5d7Ov7i",
        "outputId": "940e9cf2-ab0f-4340-bb83-a80b912d4d63"
      },
      "source": [
        "print([(x, y) for x in [7,8,9] for y in [4,2,5] if x != y]) #Itera x con los valores 7,8,9 y y con los valores 4,2,5 mientras que ambos sean diferentes \n",
        "print([str(x)+' vs '+str(y) for x in ['FRESA','UVA','MELON','PIÑA'] for y in ['BANANO','PAPAYA','PIÑA','NARANJA'] if x!=y]) #Itera x y y con los respectivos valores de los for e imprime solo si x y y son diferentes"
      ],
      "execution_count": 47,
      "outputs": [
        {
          "output_type": "stream",
          "name": "stdout",
          "text": [
            "[(7, 4), (7, 2), (7, 5), (8, 4), (8, 2), (8, 5), (9, 4), (9, 2), (9, 5)]\n",
            "['FRESA vs BANANO', 'FRESA vs PAPAYA', 'FRESA vs PIÑA', 'FRESA vs NARANJA', 'UVA vs BANANO', 'UVA vs PAPAYA', 'UVA vs PIÑA', 'UVA vs NARANJA', 'MELON vs BANANO', 'MELON vs PAPAYA', 'MELON vs PIÑA', 'MELON vs NARANJA', 'PIÑA vs BANANO', 'PIÑA vs PAPAYA', 'PIÑA vs NARANJA']\n"
          ]
        }
      ]
    },
    {
      "cell_type": "markdown",
      "metadata": {
        "id": "jJpvq-o4a8P7"
      },
      "source": [
        "List comprehension is an elegant way to organize one or more for loops when creating a list.\n",
        "\n",
        "# Summary\n",
        "This chapter has introduced logical operations, loops, and list comprehension. In the next chapter, we will introduce functions and object-oriented programming, which will enable us to make our codes clean and versatile."
      ]
    },
    {
      "cell_type": "markdown",
      "metadata": {
        "id": "Tef_X2wJbdhn"
      },
      "source": [
        "<div align=\"center\">\n",
        "<img style=\"display: block; margin: auto;\" alt=\"photo\" src=\"https://cdn.quantconnect.com/web/i/icon.png\">\n",
        "\n",
        "Quantconnect\n",
        "\n",
        "Introduction to Financial Python\n",
        "</div>\n",
        "\n",
        "# 03 Functions and Objective-Oriented Programming\n",
        "\n",
        "# Introduction\n",
        "\n",
        "In the last tutorial we introduced logical operations, loops and list comprehension. We will introduce functions and object-oriented programming in this chapter, which will enable us to build complex algorithms in more flexible ways.\n",
        "\n",
        "# Functions\n",
        "A function is a reusable block of code. We can use a function to output a value, or do anything else we want. We can easily define our own function by using the keyword \"def\"."
      ]
    },
    {
      "cell_type": "code",
      "metadata": {
        "colab": {
          "base_uri": "https://localhost:8080/"
        },
        "id": "eE_NkTiSO2PO",
        "outputId": "6a4e0043-a50c-454e-f110-350270db918b"
      },
      "source": [
        "def product(x,y): #Declara la funcion product\n",
        "    return x*y  #retorna la multiplicacion de x y y\n",
        "print(product(6,5)) #imprime el resultado de pasar como parametro 2 y 3 en la funcion product \n",
        "print(product(7,2)) #imprime el resultado de pasar como parametro 5 y 10 en la funcion product"
      ],
      "execution_count": 49,
      "outputs": [
        {
          "output_type": "stream",
          "name": "stdout",
          "text": [
            "30\n",
            "14\n"
          ]
        }
      ]
    },
    {
      "cell_type": "markdown",
      "metadata": {
        "id": "4oRU_dVJbsdD"
      },
      "source": [
        "The keyword \"def\" is followed by the function name and the parenthesized list of formal parameters. The statements that form the body of the function start at the next line, and must be indented. The product() function above has \"x\" and \"y\" as its parameters. A function doesn't necessarily have parameters:"
      ]
    },
    {
      "cell_type": "code",
      "metadata": {
        "colab": {
          "base_uri": "https://localhost:8080/"
        },
        "id": "JhdWVLbUO2PQ",
        "outputId": "a66017c4-656f-4c1f-fbf0-638be8034522"
      },
      "source": [
        "def saludar(): #Declara la funcion saludar \n",
        "    print('Bienvido al tutorial') \n",
        "saludar() #Llama a la funcion saludar"
      ],
      "execution_count": 50,
      "outputs": [
        {
          "output_type": "stream",
          "name": "stdout",
          "text": [
            "Bienvido al tutorial\n"
          ]
        }
      ]
    },
    {
      "cell_type": "markdown",
      "metadata": {
        "id": "lHwqVpWVb1Jr"
      },
      "source": [
        "# Built-in Function\n",
        "**range()** is a function that creates a list containing an arithmetic sequence. It's often used in for loops. The arguments must be integers. If the \"step\" argument is omitted, it defaults to 1."
      ]
    },
    {
      "cell_type": "code",
      "metadata": {
        "colab": {
          "base_uri": "https://localhost:8080/"
        },
        "id": "VVOTELcIO2PQ",
        "outputId": "72d6490d-b1ac-4af0-aee6-fbcef24ef93f"
      },
      "source": [
        "print(range(15)) #imprime el intervalo del rango de 15 \n",
        "print(range(3,12)) #imprime el intervalo del rango de 3 a 12 \n",
        "print(range(6,20,2)) #imprime el intervalo del rango de 6 a 20 con saltos de 2 "
      ],
      "execution_count": 55,
      "outputs": [
        {
          "output_type": "stream",
          "name": "stdout",
          "text": [
            "range(0, 15)\n",
            "range(3, 12)\n",
            "range(6, 20, 2)\n"
          ]
        }
      ]
    },
    {
      "cell_type": "markdown",
      "metadata": {
        "id": "PD0cSgiwcQ4L"
      },
      "source": [
        "**len()** is another function used together with range() to create a for loop. This function returns the length of an object. The argument must be a sequence or a collection."
      ]
    },
    {
      "cell_type": "code",
      "metadata": {
        "colab": {
          "base_uri": "https://localhost:8080/"
        },
        "id": "Hg18c7v-O2PR",
        "outputId": "a398afd2-f0b3-4a26-9922-a6581468ea4b"
      },
      "source": [
        "redes = ['INSTAGRAM','FACEBOOK','TWITTER','PINTEREST','TIKTOK','VINES', 'SNAPCHAT', 'TELEGRAM']\n",
        "print('The length of social media is {}'.format(len(redes))) # Imprime la longitud de la lista redes con format insertando en valor en {}\n",
        "for i in range(len(redes)): #Itera la cantidad de elementos en la lista redes y los imprime\n",
        "    print(redes[i])"
      ],
      "execution_count": 62,
      "outputs": [
        {
          "output_type": "stream",
          "name": "stdout",
          "text": [
            "The length of social media is 8\n",
            "INSTAGRAM\n",
            "FACEBOOK\n",
            "TWITTER\n",
            "PINTEREST\n",
            "TIKTOK\n",
            "VINES\n",
            "SNAPCHAT\n",
            "TELEGRAM\n"
          ]
        }
      ]
    },
    {
      "cell_type": "markdown",
      "metadata": {
        "id": "OIQSuub1cWgi"
      },
      "source": [
        "Note: If you want to print only the tickers without those numbers, then simply write \"for ticker in tickers: print ticker\"\n",
        "\n",
        "**map(**) is a function that applies a specific function to every item of a sequence or collection, and returns a list of the results."
      ]
    },
    {
      "cell_type": "markdown",
      "metadata": {
        "id": "pqPuspeG5HAi"
      },
      "source": [
        "Because list at the moment is [1,2,3,4,5] and overwriting list() from builtins we del list"
      ]
    },
    {
      "cell_type": "code",
      "metadata": {
        "colab": {
          "base_uri": "https://localhost:8080/"
        },
        "id": "caV9c-qk4_eZ",
        "outputId": "fdd62689-fd0e-4f6a-8f68-3031d6f7d093"
      },
      "source": [
        "list = [2,4,8,16,32]\n",
        "print(list)\n",
        "del list #Borra la lista list\n",
        "list #clase list, es un nombre reservado y ya no tiene los elementos"
      ],
      "execution_count": 78,
      "outputs": [
        {
          "output_type": "stream",
          "name": "stdout",
          "text": [
            "[2, 4, 8, 16, 32]\n"
          ]
        },
        {
          "output_type": "execute_result",
          "data": {
            "text/plain": [
              "list"
            ]
          },
          "metadata": {},
          "execution_count": 78
        }
      ]
    },
    {
      "cell_type": "code",
      "metadata": {
        "colab": {
          "base_uri": "https://localhost:8080/"
        },
        "id": "lJBs5ECT4mSq",
        "outputId": "5ed8bf8c-6e30-46c3-f689-2a9d013f65b5"
      },
      "source": [
        "redes = ['INSTAGRAM','FACEBOOK','TWITTER','PINTEREST','TIKTOK','VINES', 'SNAPCHAT', 'TELEGRAM']\n",
        "list(map(len,redes)) #map() es un metodo de la clase list y aplica la funcion len a todos los elementos de la lista redes y se imprimen sin usar un print()"
      ],
      "execution_count": 79,
      "outputs": [
        {
          "output_type": "execute_result",
          "data": {
            "text/plain": [
              "[9, 8, 7, 9, 6, 5, 8, 8]"
            ]
          },
          "metadata": {},
          "execution_count": 79
        }
      ]
    },
    {
      "cell_type": "code",
      "metadata": {
        "colab": {
          "base_uri": "https://localhost:8080/"
        },
        "id": "78DyKVOyO2PR",
        "outputId": "ae6a65d2-1be9-4cc2-ed60-683f4f3d4c48"
      },
      "source": [
        "redes = ['INSTAGRAM','FACEBOOK','TWITTER','PINTEREST','TIKTOK','VINES', 'SNAPCHAT', 'TELEGRAM']\n",
        "print(list(map(len,redes))) #aplica la funcion len a todos los elementos de la lista redes y esta vez se imprimen con print() "
      ],
      "execution_count": 83,
      "outputs": [
        {
          "output_type": "stream",
          "name": "stdout",
          "text": [
            "[9, 8, 7, 9, 6, 5, 8, 8]\n"
          ]
        }
      ]
    },
    {
      "cell_type": "markdown",
      "metadata": {
        "id": "mvr06UM7ca7b"
      },
      "source": [
        "The **lambda operator** is a way to create small anonymous functions. These functions are just needed where they have been created. For example:"
      ]
    },
    {
      "cell_type": "code",
      "metadata": {
        "colab": {
          "base_uri": "https://localhost:8080/"
        },
        "id": "pAEHADYXO2PR",
        "outputId": "c0e5c529-1df1-4a7c-8c1e-faffc54b4033"
      },
      "source": [
        "list(map(lambda x: 2**x, range(10))) #lambda crea funciones que solo se necesitan donde son creadas, guarda las potencias de 2 con exponentes del rango de 10"
      ],
      "execution_count": 86,
      "outputs": [
        {
          "output_type": "execute_result",
          "data": {
            "text/plain": [
              "[1, 2, 4, 8, 16, 32, 64, 128, 256, 512]"
            ]
          },
          "metadata": {},
          "execution_count": 86
        }
      ]
    },
    {
      "cell_type": "markdown",
      "metadata": {
        "id": "Mgixpxomcj3T"
      },
      "source": [
        "map() can be applied to more than one list. The lists have to have the same length."
      ]
    },
    {
      "cell_type": "code",
      "metadata": {
        "colab": {
          "base_uri": "https://localhost:8080/"
        },
        "id": "HtckhAaJO2PS",
        "outputId": "5ba00cc3-fa91-4222-a6e0-91690238180d"
      },
      "source": [
        "list(map(lambda x, y: x-y, [5,4,3,2,1],[1,2,3,4,5])) #Declara una lista con la resta donde x y y toman sus valores de listas diferentes"
      ],
      "execution_count": 88,
      "outputs": [
        {
          "output_type": "execute_result",
          "data": {
            "text/plain": [
              "[4, 2, 0, -2, -4]"
            ]
          },
          "metadata": {},
          "execution_count": 88
        }
      ]
    },
    {
      "cell_type": "markdown",
      "metadata": {
        "id": "ZDnMTH-KcklT"
      },
      "source": [
        "**sorted()** takes a list or set and returns a new sorted list"
      ]
    },
    {
      "cell_type": "code",
      "metadata": {
        "colab": {
          "base_uri": "https://localhost:8080/"
        },
        "id": "P0sHUMFWO2PS",
        "outputId": "33b7c93a-3483-4774-c173-0ba51b51a27f"
      },
      "source": [
        "sorted([10,-4,9,7,3]) #Ordena la lista en una nueva lista"
      ],
      "execution_count": 104,
      "outputs": [
        {
          "output_type": "execute_result",
          "data": {
            "text/plain": [
              "[-4, 3, 7, 9, 10]"
            ]
          },
          "metadata": {},
          "execution_count": 104
        }
      ]
    },
    {
      "cell_type": "markdown",
      "metadata": {
        "id": "-N5_EDOFcnsc"
      },
      "source": [
        "We can add a \"key\" parameter to specify a function to be called on each list element prior to making comparisons. For example:"
      ]
    },
    {
      "cell_type": "code",
      "metadata": {
        "colab": {
          "base_uri": "https://localhost:8080/"
        },
        "id": "0i3peZ0bO2PS",
        "outputId": "210c8768-a552-4615-940a-c928b6897797"
      },
      "source": [
        "price_list = [('Chicle',300),('Colombina',550),('Supercoco',100),('Caramelo',200),('Menta',50)] #Declara lista de tuplas\n",
        "sorted(price_list, key = lambda x: x[0]) # la funcion lamba llama el elemento en la posicion 0 de la tupla y se organiza de acuerdo a este elemento en una nueva lista"
      ],
      "execution_count": 105,
      "outputs": [
        {
          "output_type": "execute_result",
          "data": {
            "text/plain": [
              "[('Caramelo', 200),\n",
              " ('Chicle', 300),\n",
              " ('Colombina', 550),\n",
              " ('Menta', 50),\n",
              " ('Supercoco', 100)]"
            ]
          },
          "metadata": {},
          "execution_count": 105
        }
      ]
    },
    {
      "cell_type": "markdown",
      "metadata": {
        "id": "yun2zptKcxe_"
      },
      "source": [
        "By default the values are sorted by ascending order. We can change it to descending by adding an optional parameter \"reverse'."
      ]
    },
    {
      "cell_type": "code",
      "metadata": {
        "colab": {
          "base_uri": "https://localhost:8080/"
        },
        "id": "dEZqdl94O2PT",
        "outputId": "38db9de4-b152-462b-e7ee-43def1d116b6"
      },
      "source": [
        "price_list = [('Chicle',300),('Colombina',550),('Supercoco',100),('Caramelo',200),('Menta',50)]\n",
        "sorted(price_list, key = lambda x: x[0],reverse = True) #Ordena en forma descendente los nombres de la lista de precios en una nueva lista"
      ],
      "execution_count": 106,
      "outputs": [
        {
          "output_type": "execute_result",
          "data": {
            "text/plain": [
              "[('Supercoco', 100),\n",
              " ('Menta', 50),\n",
              " ('Colombina', 550),\n",
              " ('Chicle', 300),\n",
              " ('Caramelo', 200)]"
            ]
          },
          "metadata": {},
          "execution_count": 106
        }
      ]
    },
    {
      "cell_type": "markdown",
      "metadata": {
        "id": "OA2wYAa0c6Dn"
      },
      "source": [
        "Lists also have a function list.sort(). This function takes the same \"key\" and \"reverse\" arguments as sorted(), but it doesn't return a new list."
      ]
    },
    {
      "cell_type": "code",
      "metadata": {
        "colab": {
          "base_uri": "https://localhost:8080/"
        },
        "id": "pG9VQCLnO2PT",
        "outputId": "13bc4963-f309-4e3a-e456-a9095bfdd9e4"
      },
      "source": [
        "price_list = [('Chicle',300),('Colombina',550),('Supercoco',100),('Caramelo',200),('Menta',50)]\n",
        "price_list.sort(key = lambda x: x[0]) #.sort() ordena la lista y no crea una nueva\n",
        "print(price_list)"
      ],
      "execution_count": 103,
      "outputs": [
        {
          "output_type": "stream",
          "name": "stdout",
          "text": [
            "[('Caramelo', 200), ('Chicle', 300), ('Colombina', 550), ('Menta', 50), ('Supercoco', 100)]\n"
          ]
        }
      ]
    },
    {
      "cell_type": "markdown",
      "metadata": {
        "id": "mxljL1W1c_c5"
      },
      "source": [
        "# Object-Oriented Programming\n",
        "Python is an object-oriented programming language. It's important to understand the concept of \"objects\" because almost every kind of data from QuantConnect API is an object.\n",
        "\n",
        "## Class\n",
        "A class is a type of data, just like a string, float, or list. When we create an object of that data type, we call it an instance of a class.\n",
        "\n",
        "In Python, everything is an object - everything is an instance of some class. The data stored inside an object are called attributes, and the functions which are associated with the object are called methods.\n",
        "\n",
        "For example, as mentioned above, a list is an object of the \"list\" class, and it has a method list.sort().\n",
        "\n",
        "We can create our own objects by defining a class. We would do this when it's helpful to group certain functions together. For example, we define a class named \"Stock\" here:"
      ]
    },
    {
      "cell_type": "code",
      "metadata": {
        "id": "zC4Y4PgDO2PT"
      },
      "source": [
        "class stock:  #Declaración de la clase stock\n",
        "    def __init__(self, ticker, open, close, volume):  #Declaración del método __init__, inicializa los atributos ticker, open, close, volume y rate_return\n",
        "        self.ticker = ticker #Inicialización de atributos en un método\n",
        "        self.open = open\n",
        "        self.close = close\n",
        "        self.volume = volume\n",
        "        self.rate_return = float(close)/open - 1 #Guarda un resultado flotante en el atributo rate_return\n",
        " \n",
        "    def update(self, open, close): #Declaración del método update, actualiza los valores de los atributos open, close y rate_return\n",
        "        self.open = open\n",
        "        self.close = close\n",
        "        self.rate_return = float(self.close)/self.open - 1 #Guarda un resultado flotante en el atributo rate_return\n",
        " \n",
        "    def print_return(self): #Declaración del método print_return\n",
        "        print(self.rate_return) #Imprime el valor resultante del atributo rate_return"
      ],
      "execution_count": 110,
      "outputs": []
    },
    {
      "cell_type": "markdown",
      "metadata": {
        "id": "rV06INT5dETi"
      },
      "source": [
        "The \"Stock\" class has attributes \"ticker\", \"open\", \"close\", \"volume\" and \"rate_return\". Inside the class body, the first method is called __init__, which is a special method. When we create a new instance of the class, the __init__ method is immediately executed with all the parameters that we pass to the \"Stock\" object. The purpose of this method is to set up a new \"Stock\" object using data we have provided.\n",
        "\n",
        "Here we create two Stock objects named \"apple\" and \"google\"."
      ]
    },
    {
      "cell_type": "code",
      "metadata": {
        "id": "8tIpNk93O2PU"
      },
      "source": [
        "xiaomi = stock('XIAOMI', 7430.69, 8440.09, 7679564) #Declaración del objeto xiaomi y sus atributos en la clase stock\n",
        "huawei = stock('HUAWEI', 10098.7, 17090.7, 6585675) #Declaración del objeto huawei y sus atributos en la clase stock"
      ],
      "execution_count": 136,
      "outputs": []
    },
    {
      "cell_type": "markdown",
      "metadata": {
        "id": "VxmELNiHdPKS"
      },
      "source": [
        "Stock objects also have two other methods: update() and print_return(). We can access the attribues of a Stock object and call its methods:"
      ]
    },
    {
      "cell_type": "code",
      "metadata": {
        "colab": {
          "base_uri": "https://localhost:8080/"
        },
        "id": "SsiIkmekO2PU",
        "outputId": "f96595b4-2ea7-4ea7-9f1b-f40e43ee3016"
      },
      "source": [
        "xiaomi.ticker # Atributp ticker de xiaomi\n",
        "huawei.print_return() #Llama el metodo print_return() e imprime el valor rate_return del objeto huawei\n",
        "huawei.update(912.8,913.4) #Actualiza los atributos open and close del objeto huawei\n",
        "huawei.print_return()"
      ],
      "execution_count": 137,
      "outputs": [
        {
          "output_type": "stream",
          "name": "stdout",
          "text": [
            "0.6923663441829147\n",
            "0.0006573181419806673\n"
          ]
        }
      ]
    },
    {
      "cell_type": "markdown",
      "metadata": {
        "id": "Q8fl7keNdVKF"
      },
      "source": [
        "By calling the update() function, we updated the open and close prices of a stock. Please note that when we use the attributes or call the methods **inside a class**, we need to specify them as self.attribute or self.method(), otherwise Python will deem them as global variables and thus raise an error.\n",
        "\n",
        "We can add an attribute to an object anywhere:"
      ]
    },
    {
      "cell_type": "code",
      "metadata": {
        "colab": {
          "base_uri": "https://localhost:8080/",
          "height": 35
        },
        "id": "rO4OLnqOO2PU",
        "outputId": "f58bc663-1614-45a0-c27e-b5d620f2054a"
      },
      "source": [
        "xiaomi.sim = 'Claro' #Declara el atributo sim\n",
        "xiaomi.sim  #Imprime el atributo sim del objeto xiaomi"
      ],
      "execution_count": 122,
      "outputs": [
        {
          "output_type": "execute_result",
          "data": {
            "text/plain": [
              "'Claro'"
            ],
            "application/vnd.google.colaboratory.intrinsic+json": {
              "type": "string"
            }
          },
          "metadata": {},
          "execution_count": 122
        }
      ]
    },
    {
      "cell_type": "markdown",
      "metadata": {
        "id": "WyfnFgVidh4J"
      },
      "source": [
        "We can check what names (i.e. attributes and methods) are defined on an object using the dir() function:"
      ]
    },
    {
      "cell_type": "code",
      "metadata": {
        "colab": {
          "base_uri": "https://localhost:8080/"
        },
        "id": "pPoz0LA8O2PU",
        "outputId": "cf8ad73a-862e-4270-914f-5272699d5465"
      },
      "source": [
        "dir(xiaomi) #Imprime nombres de atributos y métodos definidos en el objeto indicado"
      ],
      "execution_count": 141,
      "outputs": [
        {
          "output_type": "execute_result",
          "data": {
            "text/plain": [
              "['__class__',\n",
              " '__delattr__',\n",
              " '__dict__',\n",
              " '__dir__',\n",
              " '__doc__',\n",
              " '__eq__',\n",
              " '__format__',\n",
              " '__ge__',\n",
              " '__getattribute__',\n",
              " '__gt__',\n",
              " '__hash__',\n",
              " '__init__',\n",
              " '__init_subclass__',\n",
              " '__le__',\n",
              " '__lt__',\n",
              " '__module__',\n",
              " '__ne__',\n",
              " '__new__',\n",
              " '__reduce__',\n",
              " '__reduce_ex__',\n",
              " '__repr__',\n",
              " '__setattr__',\n",
              " '__sizeof__',\n",
              " '__str__',\n",
              " '__subclasshook__',\n",
              " '__weakref__',\n",
              " 'close',\n",
              " 'open',\n",
              " 'print_return',\n",
              " 'rate_return',\n",
              " 'ticker',\n",
              " 'update',\n",
              " 'volume']"
            ]
          },
          "metadata": {},
          "execution_count": 141
        }
      ]
    },
    {
      "cell_type": "markdown",
      "metadata": {
        "id": "Qpemj1UZd2aa"
      },
      "source": [
        "## Inheritance\n",
        "Inheritance is a way of arranging classes in a hierarchy from the most general to the most specific. A \"child\" class is a more specific type of a \"parent\" class because a child class will inherit all the attribues and methods of its parent. For example, we define a class named \"Child\" which inherits \"Stock\":"
      ]
    },
    {
      "cell_type": "code",
      "metadata": {
        "id": "UELXnxomO2PV"
      },
      "source": [
        "class child(stock): #La clase child hereda de la clase stock\n",
        "    def __init__(self,name):  #Declaración del método __init__, inicializa el atributo name\n",
        "        self.name = name  #Actualización del atributo name"
      ],
      "execution_count": 143,
      "outputs": []
    },
    {
      "cell_type": "code",
      "metadata": {
        "colab": {
          "base_uri": "https://localhost:8080/"
        },
        "id": "ffS2THZyO2PV",
        "outputId": "2e0cdbcf-89f9-41d4-ec10-108ee1597ec0"
      },
      "source": [
        "redmi = child('redmi')  #Utiliza la clase hija y heredará los atributos de stock\n",
        "print(redmi.name) #Imprime atributo name del objeto redmi\n",
        "redmi.update(100,102) #Utiliza el método update de stock para asignar valores a los atributos open y close\n",
        "print(redmi.open) #Imprime atributo open del objeto redmi\n",
        "print(redmi.close) #Imprime atributo close del objeto redmi\n",
        "print(redmi.print_return()) #Imprime atributo rate_return del objeto redmi"
      ],
      "execution_count": 148,
      "outputs": [
        {
          "output_type": "stream",
          "name": "stdout",
          "text": [
            "redmi\n",
            "100\n",
            "102\n",
            "0.020000000000000018\n",
            "None\n"
          ]
        }
      ]
    },
    {
      "cell_type": "markdown",
      "metadata": {
        "id": "pdIEjUv2eJqL"
      },
      "source": [
        "As seen above, the new class Child has inherited the methods from Stock.\n",
        "\n",
        "#Summary\n",
        "\n",
        "In this chapter we have introduced functions and classes. When we write a QuantConnect algorithm, we would define our algorithm as a class (QCAlgorithm). This means our algorithm inherited the QC API methods from QCAlgorithm class.\n",
        "\n",
        "In the next chapter, we will introduce NumPy and Pandas, which enable us to conduct scientific calculations in Python."
      ]
    },
    {
      "cell_type": "markdown",
      "metadata": {
        "id": "dQbENH6mexTd"
      },
      "source": [
        "<div align=\"center\">\n",
        "<img style=\"display: block; margin: auto;\" alt=\"photo\" src=\"https://cdn.quantconnect.com/web/i/icon.png\">\n",
        "\n",
        "Quantconnect\n",
        "\n",
        "Introduction to Financial Python\n",
        "</div>\n",
        "\n",
        "# 04 NumPy and Basic Pandas\n",
        "\n",
        "# Introduction\n",
        "\n",
        "Now that we have introduced the fundamentals of Python, it's time to learn about NumPy and Pandas.\n",
        "\n",
        "# NumPy\n",
        "NumPy is the core library for scientific computing in Python. It provides a high-performance multidimensional array object, and tools for working with these arrays. It also has strong integration with Pandas, which is another powerful tool for manipulating financial data.\n",
        "\n",
        "Python packages like NumPy and Pandas contain classes and methods which we can use by importing the package:"
      ]
    },
    {
      "cell_type": "code",
      "metadata": {
        "id": "aIESp-rdO58h"
      },
      "source": [
        "import numpy as np #Importación de la librería numpy como np"
      ],
      "execution_count": 150,
      "outputs": []
    },
    {
      "cell_type": "markdown",
      "metadata": {
        "id": "GScHHJ5ke7ea"
      },
      "source": [
        "## Basic NumPy Arrays\n",
        "A NumPy array is a grid of values, all of the same type, and is indexed by a tuple of nonnegative integers. Here we make an array by passing a list of Apple stock prices:"
      ]
    },
    {
      "cell_type": "code",
      "metadata": {
        "colab": {
          "base_uri": "https://localhost:8080/"
        },
        "id": "lZI1wkwDO58i",
        "outputId": "d0454264-3a29-457d-9390-94585796e279"
      },
      "source": [
        "prices = [737.43, 924.84, 534.53, 434.12, 909.80, 230.84]\n",
        "price_array = np.array(prices) #Declaración del arreglo de precios con la libreria numpy\n",
        "print(price_array, type(price_array)) #imprime el arreglo creado con numpy y el tipo de dato"
      ],
      "execution_count": 176,
      "outputs": [
        {
          "output_type": "stream",
          "name": "stdout",
          "text": [
            "[737.43 924.84 534.53 434.12 909.8  230.84] <class 'numpy.ndarray'>\n"
          ]
        }
      ]
    },
    {
      "cell_type": "markdown",
      "metadata": {
        "id": "-5Yj6u9ifB-t"
      },
      "source": [
        "Notice that the type of array is \"ndarray\" which is a multi-dimensional array. If we pass np.array() a list of lists, it will create a 2-dimensional array."
      ]
    },
    {
      "cell_type": "code",
      "metadata": {
        "colab": {
          "base_uri": "https://localhost:8080/"
        },
        "id": "obvIZrK-O58j",
        "outputId": "bb635942-326a-4a9b-aa3f-d1f83c6cc686"
      },
      "source": [
        "Ma = np.array([[5,8,7],[1,4,2],[3,9,0],[6,7,3]]) #crea matriz 2x2\n",
        "print(Ma, type(Ma)) #imprime matriz 2x2 y el tipo de dato"
      ],
      "execution_count": 171,
      "outputs": [
        {
          "output_type": "stream",
          "name": "stdout",
          "text": [
            "[[5 8 7]\n",
            " [1 4 2]\n",
            " [3 9 0]\n",
            " [6 7 3]] <class 'numpy.ndarray'>\n"
          ]
        }
      ]
    },
    {
      "cell_type": "markdown",
      "metadata": {
        "id": "uDdfLD9HfHkl"
      },
      "source": [
        "We get the dimensions of an ndarray using the .shape attribute:"
      ]
    },
    {
      "cell_type": "code",
      "metadata": {
        "colab": {
          "base_uri": "https://localhost:8080/"
        },
        "id": "G2txdn73O58j",
        "outputId": "817c9080-4429-4d89-9f9c-6164966fcf5b"
      },
      "source": [
        "print(Ma.shape) #imprime las dimensiones del arreglo creado con numpy"
      ],
      "execution_count": 172,
      "outputs": [
        {
          "output_type": "stream",
          "name": "stdout",
          "text": [
            "(4, 3)\n"
          ]
        }
      ]
    },
    {
      "cell_type": "markdown",
      "metadata": {
        "id": "87W5ueORfPEy"
      },
      "source": [
        "If we create an 2-dimensional array (i.e. matrix), each row can be accessed by index:"
      ]
    },
    {
      "cell_type": "code",
      "metadata": {
        "colab": {
          "base_uri": "https://localhost:8080/"
        },
        "id": "x_QV9aPbO58j",
        "outputId": "a8d3605f-b983-488f-a7c9-7037eb70fb33"
      },
      "source": [
        "print(Ma[0]) #imprime la fila en la posición 0 de la matriz\n",
        "print(Ma[2]) #imprime la fila en la posición 2 de la matriz"
      ],
      "execution_count": 173,
      "outputs": [
        {
          "output_type": "stream",
          "name": "stdout",
          "text": [
            "[5 8 7]\n",
            "[3 9 0]\n"
          ]
        }
      ]
    },
    {
      "cell_type": "markdown",
      "metadata": {
        "id": "5Hke7Vt-fSGB"
      },
      "source": [
        "If we want to access the matrix by column instead:"
      ]
    },
    {
      "cell_type": "code",
      "metadata": {
        "colab": {
          "base_uri": "https://localhost:8080/"
        },
        "id": "gHVwbPfOO58j",
        "outputId": "61d3cf59-2a64-4742-fed9-18508058360c"
      },
      "source": [
        "print('the first column: ', Ma[:,0]) # imprime la primera columna de la matriz\n",
        "print('the second column: ', Ma[:,2]) # imprime la segunda columna de la matriz"
      ],
      "execution_count": 174,
      "outputs": [
        {
          "output_type": "stream",
          "name": "stdout",
          "text": [
            "the first column:  [5 1 3 6]\n",
            "the second column:  [7 2 0 3]\n"
          ]
        }
      ]
    },
    {
      "cell_type": "markdown",
      "metadata": {
        "id": "T61cD0HMfStB"
      },
      "source": [
        "## Array Functions\n",
        "Some functions built in NumPy that allow us to perform calculations on arrays. For example, we can apply the natural logarithm to each element of an array:"
      ]
    },
    {
      "cell_type": "code",
      "metadata": {
        "colab": {
          "base_uri": "https://localhost:8080/"
        },
        "id": "PKhwtJ7XO58k",
        "outputId": "032feb26-d969-4d2c-953c-2556b1455536"
      },
      "source": [
        "print(np.log(price_array)) #aplica el logaritmo natural a todos los elementos del arreglo"
      ],
      "execution_count": 178,
      "outputs": [
        {
          "output_type": "stream",
          "name": "stdout",
          "text": [
            "[6.60317117 6.82962075 6.28138786 6.07332099 6.8132248  5.44172483]\n"
          ]
        }
      ]
    },
    {
      "cell_type": "markdown",
      "metadata": {
        "id": "uzjBRFBLfZ-D"
      },
      "source": [
        "Other functions return a single value:"
      ]
    },
    {
      "cell_type": "code",
      "metadata": {
        "colab": {
          "base_uri": "https://localhost:8080/"
        },
        "id": "nQuABZqUO58k",
        "outputId": "132cd47a-0be4-48d8-968e-9f8e4bfbf24f"
      },
      "source": [
        "print(np.mean(price_array)) # mean() retorna la media aritmetica de los elementos del arreglo\n",
        "print(np.std(price_array))  # std() retorna la desviación estándar de los elementos del arreglo\n",
        "print(np.sum(price_array))  # sum() retorna la suma de los elementos del arreglo\n",
        "print(np.max(price_array))  # max() retorna el máximo valor entre los elementos del arreglo"
      ],
      "execution_count": 180,
      "outputs": [
        {
          "output_type": "stream",
          "name": "stdout",
          "text": [
            "628.5933333333334\n",
            "252.8372991778617\n",
            "3771.5600000000004\n",
            "924.84\n"
          ]
        }
      ]
    },
    {
      "cell_type": "markdown",
      "metadata": {
        "id": "IRW95BsifgDB"
      },
      "source": [
        "The functions above return the mean, standard deviation, total and maximum value of an array.\n",
        "\n",
        "# Pandas\n",
        "Pandas is one of the most powerful tools for dealing with financial data. \n",
        "\n",
        "First we need to import Pandas:"
      ]
    },
    {
      "cell_type": "code",
      "metadata": {
        "id": "xIYH4oUfO58k"
      },
      "source": [
        "import pandas as pd #Importación de la librería pandas"
      ],
      "execution_count": 183,
      "outputs": []
    },
    {
      "cell_type": "markdown",
      "metadata": {
        "id": "zOig5gORfnJU"
      },
      "source": [
        "## Series\n",
        "Series is a one-dimensional labeled array capable of holding any data type (integers, strings, float, Python object, etc.)\n",
        "\n",
        "We create a Series by calling pd.Series(data), where data can be a dictionary, an array or just a scalar value."
      ]
    },
    {
      "cell_type": "code",
      "metadata": {
        "colab": {
          "base_uri": "https://localhost:8080/"
        },
        "id": "JmzoNzrPO58k",
        "outputId": "3c670dab-429f-46a1-857e-73687c9219ba"
      },
      "source": [
        "medidas = [737.43, 924.84, 534.53, 434.12, 909.80, 230.84]\n",
        "s = pd.Series(medidas) #Series() crea la serie de la lista indicada\n",
        "s #imprime la serie y el tipo de dato"
      ],
      "execution_count": 245,
      "outputs": [
        {
          "output_type": "execute_result",
          "data": {
            "text/plain": [
              "0    737.43\n",
              "1    924.84\n",
              "2    534.53\n",
              "3    434.12\n",
              "4    909.80\n",
              "5    230.84\n",
              "dtype: float64"
            ]
          },
          "metadata": {},
          "execution_count": 245
        }
      ]
    },
    {
      "cell_type": "markdown",
      "metadata": {
        "id": "tP5iDnunfq46"
      },
      "source": [
        "We can customize the indices of a new Series:"
      ]
    },
    {
      "cell_type": "code",
      "metadata": {
        "colab": {
          "base_uri": "https://localhost:8080/"
        },
        "id": "eswQC3ZPO58l",
        "outputId": "e3d7ec36-4973-4797-e399-73af5c56d7e8"
      },
      "source": [
        "s = pd.Series(medidas,index = ['u','v','w',1,3,4]) #index personaliza los indices de la serie\n",
        "s"
      ],
      "execution_count": 246,
      "outputs": [
        {
          "output_type": "execute_result",
          "data": {
            "text/plain": [
              "u    737.43\n",
              "v    924.84\n",
              "w    534.53\n",
              "1    434.12\n",
              "3    909.80\n",
              "4    230.84\n",
              "dtype: float64"
            ]
          },
          "metadata": {},
          "execution_count": 246
        }
      ]
    },
    {
      "cell_type": "markdown",
      "metadata": {
        "id": "wdZrb8pEfuua"
      },
      "source": [
        "Or we can change the indices of an existing Series:"
      ]
    },
    {
      "cell_type": "code",
      "metadata": {
        "colab": {
          "base_uri": "https://localhost:8080/"
        },
        "id": "MwlRnPF6O58l",
        "outputId": "f22f94de-bc9d-49c1-ccbb-32cc0cfb38f1"
      },
      "source": [
        "s.index = [1,2,3,'x','y','z'] #Cambia los indices de una serie ya creada\n",
        "s"
      ],
      "execution_count": 247,
      "outputs": [
        {
          "output_type": "execute_result",
          "data": {
            "text/plain": [
              "1    737.43\n",
              "2    924.84\n",
              "3    534.53\n",
              "x    434.12\n",
              "y    909.80\n",
              "z    230.84\n",
              "dtype: float64"
            ]
          },
          "metadata": {},
          "execution_count": 247
        }
      ]
    },
    {
      "cell_type": "markdown",
      "metadata": {
        "id": "6cGNQZwLfxIz"
      },
      "source": [
        "Series is like a list since it can be sliced by index:"
      ]
    },
    {
      "cell_type": "code",
      "metadata": {
        "colab": {
          "base_uri": "https://localhost:8080/"
        },
        "id": "N9bBSg6cO58l",
        "outputId": "fe944c2d-aca0-45f9-f3ab-d11950f1de36"
      },
      "source": [
        "print(s[1:]) #imprime la serie desde el indice 1\n",
        "print(s[:-3]) #imprime la serie excepto los últimos tres índices"
      ],
      "execution_count": 248,
      "outputs": [
        {
          "output_type": "stream",
          "name": "stdout",
          "text": [
            "2    924.84\n",
            "3    534.53\n",
            "x    434.12\n",
            "y    909.80\n",
            "z    230.84\n",
            "dtype: float64\n",
            "1    737.43\n",
            "2    924.84\n",
            "3    534.53\n",
            "dtype: float64\n"
          ]
        }
      ]
    },
    {
      "cell_type": "markdown",
      "metadata": {
        "id": "5V25nViZfz3Z"
      },
      "source": [
        "Series is also like a dictionary whose values can be set or fetched by index label:"
      ]
    },
    {
      "cell_type": "code",
      "metadata": {
        "colab": {
          "base_uri": "https://localhost:8080/"
        },
        "id": "b3Y0kKGYO58l",
        "outputId": "eab84d2e-8130-40cc-cdb6-a1c11bbdffad"
      },
      "source": [
        "print(s['x']) #imprime el indice 'x' de la serie\n",
        "s[3] = 38.5 #actualiza el indice 3 de la serie\n",
        "print(s) #impresión de la serie con print()"
      ],
      "execution_count": 249,
      "outputs": [
        {
          "output_type": "stream",
          "name": "stdout",
          "text": [
            "434.12\n",
            "1    737.43\n",
            "2    924.84\n",
            "3     38.50\n",
            "x    434.12\n",
            "y    909.80\n",
            "z    230.84\n",
            "dtype: float64\n"
          ]
        }
      ]
    },
    {
      "cell_type": "markdown",
      "metadata": {
        "id": "RQ1P7Gkyf060"
      },
      "source": [
        "Series can also have a name attribute, which will be used when we make up a Pandas DataFrame using several series."
      ]
    },
    {
      "cell_type": "code",
      "metadata": {
        "colab": {
          "base_uri": "https://localhost:8080/"
        },
        "id": "ZeD4-p7KO58m",
        "outputId": "ac0937fd-235c-4df3-cd17-0068928c1548"
      },
      "source": [
        "s = pd.Series(medidas, name = 'Medidas colegio') #actualización del nombre de la serie\n",
        "print(s)  \n",
        "print(s.name) #impresión del nombre de la serie"
      ],
      "execution_count": 250,
      "outputs": [
        {
          "output_type": "stream",
          "name": "stdout",
          "text": [
            "0    737.43\n",
            "1    924.84\n",
            "2    534.53\n",
            "3    434.12\n",
            "4    909.80\n",
            "5    230.84\n",
            "Name: Medidas colegio, dtype: float64\n",
            "Medidas colegio\n"
          ]
        }
      ]
    },
    {
      "cell_type": "markdown",
      "metadata": {
        "id": "geJb1pGHf5Et"
      },
      "source": [
        "We can get the statistical summaries of a Series:"
      ]
    },
    {
      "cell_type": "code",
      "metadata": {
        "colab": {
          "base_uri": "https://localhost:8080/"
        },
        "id": "mGPtFcjegm4i",
        "outputId": "f6383ebe-ae09-4883-cf9b-3428f2718806"
      },
      "source": [
        "print(s.describe()) #Imprime el resumen estadístico de la serie"
      ],
      "execution_count": 251,
      "outputs": [
        {
          "output_type": "stream",
          "name": "stdout",
          "text": [
            "count      6.000000\n",
            "mean     628.593333\n",
            "std      276.969384\n",
            "min      230.840000\n",
            "25%      459.222500\n",
            "50%      635.980000\n",
            "75%      866.707500\n",
            "max      924.840000\n",
            "Name: Medidas colegio, dtype: float64\n"
          ]
        }
      ]
    },
    {
      "cell_type": "markdown",
      "metadata": {
        "id": "LkdZu-CDgvlR"
      },
      "source": [
        "## Time Index\n",
        "Pandas has a built-in function specifically for creating date indices: pd.date_range(). We use it to create a new index for our Series:"
      ]
    },
    {
      "cell_type": "code",
      "metadata": {
        "colab": {
          "base_uri": "https://localhost:8080/"
        },
        "id": "HJe5hU4zO58m",
        "outputId": "b486bb68-3c0c-481b-988e-8a9a3e159004"
      },
      "source": [
        "time_index = pd.date_range('2022-04-16',periods = len(s),freq = 'D') #asigna el rango de fechas, con una fecha inicial, numero de periodos y frecuencia\n",
        "print(time_index) #imprime los valores que toman los índices de tiempo \n",
        "s.index = time_index #asigna a los índices los índices de tiempo\n",
        "print(s) "
      ],
      "execution_count": 263,
      "outputs": [
        {
          "output_type": "stream",
          "name": "stdout",
          "text": [
            "DatetimeIndex(['2022-04-16', '2022-04-17', '2022-04-18', '2022-04-19',\n",
            "               '2022-04-20', '2022-04-21'],\n",
            "              dtype='datetime64[ns]', freq='D')\n",
            "2022-04-16    737.43\n",
            "2022-04-17    924.84\n",
            "2022-04-18    534.53\n",
            "2022-04-19    434.12\n",
            "2022-04-20    909.80\n",
            "2022-04-21    230.84\n",
            "Freq: D, Name: Medidas colegio, dtype: float64\n"
          ]
        }
      ]
    },
    {
      "cell_type": "markdown",
      "metadata": {
        "id": "7WedejFZg19J"
      },
      "source": [
        "Series are usually accessed using the iloc[] and loc[] methods. iloc[] is used to access elements by integer index, and loc[] is used to access the index of the series.\n",
        "\n",
        "iloc[] is necessary when the index of a series are integers, take our previous defined series as example:"
      ]
    },
    {
      "cell_type": "code",
      "metadata": {
        "colab": {
          "base_uri": "https://localhost:8080/"
        },
        "id": "KrVSOyMvO58m",
        "outputId": "37ed2036-07de-45c8-ed85-36e490471402"
      },
      "source": [
        "s.index = [6,5,4,3,2,1] #asigna los indices 6,5,4,3,2,1 a la serie\n",
        "print(s) #imprime la serie\n",
        "print(s[3]) #imprime el indice 1 de la serie"
      ],
      "execution_count": 260,
      "outputs": [
        {
          "output_type": "stream",
          "name": "stdout",
          "text": [
            "6    737.43\n",
            "5    924.84\n",
            "4    534.53\n",
            "3    434.12\n",
            "2    909.80\n",
            "1    230.84\n",
            "Name: Medidas colegio, dtype: float64\n",
            "434.12\n"
          ]
        }
      ]
    },
    {
      "cell_type": "markdown",
      "metadata": {
        "id": "r30VKPtpg61p"
      },
      "source": [
        "If we intended to take the second element of the series, we would make a mistake here, because the index are integers. In order to access to the element we want, we use iloc[] here:"
      ]
    },
    {
      "cell_type": "code",
      "metadata": {
        "colab": {
          "base_uri": "https://localhost:8080/"
        },
        "id": "bHukfaAmO58m",
        "outputId": "11512f4e-fad5-4c41-a85f-eede846eb3c8"
      },
      "source": [
        "print(s.iloc[2]) #imprime el elemento de la posición indicada de la serie"
      ],
      "execution_count": 261,
      "outputs": [
        {
          "output_type": "stream",
          "name": "stdout",
          "text": [
            "534.53\n"
          ]
        }
      ]
    },
    {
      "cell_type": "markdown",
      "metadata": {
        "id": "kHVBRL_Rg84j"
      },
      "source": [
        "While working with time series data, we often use time as the index. Pandas provides us with various methods to access the data by time index"
      ]
    },
    {
      "cell_type": "code",
      "metadata": {
        "colab": {
          "base_uri": "https://localhost:8080/"
        },
        "id": "FCf8Hg7jO58n",
        "outputId": "73303c16-e1cc-4c41-a372-ede66d7aeec3"
      },
      "source": [
        "s.index = time_index #asigna a los índices los índices de tiempo\n",
        "print(s['2022-04-19']) #imprime el elemento con el índice indicado"
      ],
      "execution_count": 266,
      "outputs": [
        {
          "output_type": "stream",
          "name": "stdout",
          "text": [
            "434.12\n"
          ]
        }
      ]
    },
    {
      "cell_type": "markdown",
      "metadata": {
        "id": "XJXcrSFpg-To"
      },
      "source": [
        "We can even access to a range of dates:"
      ]
    },
    {
      "cell_type": "code",
      "metadata": {
        "colab": {
          "base_uri": "https://localhost:8080/"
        },
        "id": "NsE-Lr_9O58n",
        "outputId": "de5b7b10-c951-42fe-851e-198071ea1cc2"
      },
      "source": [
        "print(s['2022-04-17':'2022-04-20']) #Imprime los elementos del rango de índices indicado"
      ],
      "execution_count": 265,
      "outputs": [
        {
          "output_type": "stream",
          "name": "stdout",
          "text": [
            "2022-04-17    924.84\n",
            "2022-04-18    534.53\n",
            "2022-04-19    434.12\n",
            "2022-04-20    909.80\n",
            "Freq: D, Name: Medidas colegio, dtype: float64\n"
          ]
        }
      ]
    },
    {
      "cell_type": "markdown",
      "metadata": {
        "id": "cWA3NCXEhCLB"
      },
      "source": [
        "Series[] provides us a very flexible way to index data. We can add any condition in the square brackets:"
      ]
    },
    {
      "cell_type": "code",
      "metadata": {
        "colab": {
          "base_uri": "https://localhost:8080/"
        },
        "id": "aawbrg2EO58n",
        "outputId": "c4a96004-b49f-43f2-efbc-9cde34ae9d86"
      },
      "source": [
        "print(s[s < np.mean(s)] ) #imprime los elementos que cumplan la condicional, en este caso los menores a la media aritmetica\n",
        "print([(s > np.mean(s)) & (s < np.mean(s) + 1.64*np.std(s))]) #imprime los elementos que cumplan la condicional"
      ],
      "execution_count": 268,
      "outputs": [
        {
          "output_type": "stream",
          "name": "stdout",
          "text": [
            "2022-04-18    534.53\n",
            "2022-04-19    434.12\n",
            "2022-04-21    230.84\n",
            "Name: Medidas colegio, dtype: float64\n",
            "[2022-04-16     True\n",
            "2022-04-17     True\n",
            "2022-04-18    False\n",
            "2022-04-19    False\n",
            "2022-04-20     True\n",
            "2022-04-21    False\n",
            "Freq: D, Name: Medidas colegio, dtype: bool]\n"
          ]
        }
      ]
    },
    {
      "cell_type": "markdown",
      "metadata": {
        "id": "jAByChIwhEuI"
      },
      "source": [
        "As demonstrated, we can use logical operators like & (and), | (or) and ~ (not) to group multiple conditions.\n",
        "\n",
        "# Summary\n",
        "Here we have introduced NumPy and Pandas for scientific computing in Python. In the next chapter, we will dive into Pandas to learn resampling and manipulating Pandas DataFrame, which are commonly used in financial data analysis."
      ]
    },
    {
      "cell_type": "markdown",
      "metadata": {
        "id": "OtjOpw6oJp6z"
      },
      "source": [
        "<div align=\"center\">\n",
        "<img style=\"display: block; margin: auto;\" alt=\"photo\" src=\"https://cdn.quantconnect.com/web/i/icon.png\"> <img style=\"display: block; margin: auto;\" alt=\"photo\" src=\"https://www.marketing-branding.com/wp-content/uploads/2020/07/google-colaboratory-colab-guia-completa.jpg \" width=\"50\" height=\"50\">\n",
        "<img style=\"display: block; margin: auto;\" alt=\"photo\" src=\"https://upload.wikimedia.org/wikipedia/commons/d/da/Yahoo_Finance_Logo_2019.svg\" width=\"50\" height=\"50\">  \n",
        "\n",
        "Quantconnect -> Google Colab with Yahoo Finance data\n",
        "\n",
        "Introduction to Financial Python\n",
        "</div>\n",
        "\n",
        "# 05 Pandas-Resampling and DataFrame\n",
        "\n",
        "# Introduction\n",
        "In the last chapter we had a glimpse of Pandas. In this chapter we will learn about resampling methods and the DataFrame object, which is a powerful tool for financial data analysis.\n",
        "\n",
        "# Fetching Data\n",
        "Here we use the Yahoo Finance to retrieve data.\n"
      ]
    },
    {
      "cell_type": "code",
      "metadata": {
        "colab": {
          "base_uri": "https://localhost:8080/"
        },
        "id": "luU8mZTsHW9x",
        "outputId": "212c69bc-6294-46d9-92a8-6ed9464bdd02"
      },
      "source": [
        "!pip install yfinance #Instalación de Yahoo Finance"
      ],
      "execution_count": 271,
      "outputs": [
        {
          "output_type": "stream",
          "name": "stdout",
          "text": [
            "Requirement already satisfied: yfinance in /usr/local/lib/python3.7/dist-packages (0.1.70)\n",
            "Requirement already satisfied: numpy>=1.15 in /usr/local/lib/python3.7/dist-packages (from yfinance) (1.21.5)\n",
            "Requirement already satisfied: multitasking>=0.0.7 in /usr/local/lib/python3.7/dist-packages (from yfinance) (0.0.10)\n",
            "Requirement already satisfied: requests>=2.26 in /usr/local/lib/python3.7/dist-packages (from yfinance) (2.27.1)\n",
            "Requirement already satisfied: lxml>=4.5.1 in /usr/local/lib/python3.7/dist-packages (from yfinance) (4.8.0)\n",
            "Requirement already satisfied: pandas>=0.24.0 in /usr/local/lib/python3.7/dist-packages (from yfinance) (1.3.5)\n",
            "Requirement already satisfied: python-dateutil>=2.7.3 in /usr/local/lib/python3.7/dist-packages (from pandas>=0.24.0->yfinance) (2.8.2)\n",
            "Requirement already satisfied: pytz>=2017.3 in /usr/local/lib/python3.7/dist-packages (from pandas>=0.24.0->yfinance) (2018.9)\n",
            "Requirement already satisfied: six>=1.5 in /usr/local/lib/python3.7/dist-packages (from python-dateutil>=2.7.3->pandas>=0.24.0->yfinance) (1.15.0)\n",
            "Requirement already satisfied: idna<4,>=2.5 in /usr/local/lib/python3.7/dist-packages (from requests>=2.26->yfinance) (2.10)\n",
            "Requirement already satisfied: certifi>=2017.4.17 in /usr/local/lib/python3.7/dist-packages (from requests>=2.26->yfinance) (2021.10.8)\n",
            "Requirement already satisfied: charset-normalizer~=2.0.0 in /usr/local/lib/python3.7/dist-packages (from requests>=2.26->yfinance) (2.0.12)\n",
            "Requirement already satisfied: urllib3<1.27,>=1.21.1 in /usr/local/lib/python3.7/dist-packages (from requests>=2.26->yfinance) (1.24.3)\n"
          ]
        }
      ]
    },
    {
      "cell_type": "code",
      "metadata": {
        "colab": {
          "base_uri": "https://localhost:8080/",
          "height": 692
        },
        "id": "mWZ-nirTZHrE",
        "outputId": "6260604e-4f12-49ff-ecc7-3e7955998e94"
      },
      "source": [
        "import yfinance as yf #Importación de Yahoo Finance como yf\n",
        "\n",
        "aapl = yf.Ticker(\"AAPL\") #asignación de la tienda\n",
        "\n",
        "print(aapl.info) #imprime la información de la tienda\n",
        "\n",
        "# get historical market data\n",
        "aapl_table = aapl.history(start=\"2016-01-01\",  end=\"2018-12-31\") #obtiene los datos del historial de mercado dado una fecha de inicio y de fin\n",
        "aapl_table #imprime el historial"
      ],
      "execution_count": 300,
      "outputs": [
        {
          "output_type": "stream",
          "name": "stdout",
          "text": [
            "{'zip': '95014', 'sector': 'Technology', 'fullTimeEmployees': 100000, 'longBusinessSummary': 'Apple Inc. designs, manufactures, and markets smartphones, personal computers, tablets, wearables, and accessories worldwide. It also sells various related services. In addition, the company offers iPhone, a line of smartphones; Mac, a line of personal computers; iPad, a line of multi-purpose tablets; AirPods Max, an over-ear wireless headphone; and wearables, home, and accessories comprising AirPods, Apple TV, Apple Watch, Beats products, HomePod, and iPod touch. Further, it provides AppleCare support services; cloud services store services; and operates various platforms, including the App Store that allow customers to discover and download applications and digital content, such as books, music, video, games, and podcasts. Additionally, the company offers various services, such as Apple Arcade, a game subscription service; Apple Music, which offers users a curated listening experience with on-demand radio stations; Apple News+, a subscription news and magazine service; Apple TV+, which offers exclusive original content; Apple Card, a co-branded credit card; and Apple Pay, a cashless payment service, as well as licenses its intellectual property. The company serves consumers, and small and mid-sized businesses; and the education, enterprise, and government markets. It distributes third-party applications for its products through the App Store. The company also sells its products through its retail and online stores, and direct sales force; and third-party cellular network carriers, wholesalers, retailers, and resellers. Apple Inc. was incorporated in 1977 and is headquartered in Cupertino, California.', 'city': 'Cupertino', 'phone': '408 996 1010', 'state': 'CA', 'country': 'United States', 'companyOfficers': [], 'website': 'https://www.apple.com', 'maxAge': 1, 'address1': 'One Apple Park Way', 'industry': 'Consumer Electronics', 'ebitdaMargins': 0.33890998, 'profitMargins': 0.26579002, 'grossMargins': 0.43019, 'operatingCashflow': 112241000448, 'revenueGrowth': 0.112, 'operatingMargins': 0.309, 'ebitda': 128217997312, 'targetLowPrice': 160, 'recommendationKey': 'buy', 'grossProfits': 152836000000, 'freeCashflow': 80153247744, 'targetMedianPrice': 199.5, 'currentPrice': 155.09, 'earningsGrowth': 0.25, 'currentRatio': 1.038, 'returnOnAssets': 0.19875, 'numberOfAnalystOpinions': 44, 'targetMeanPrice': 193.53, 'debtToEquity': 170.714, 'returnOnEquity': 1.45567, 'targetHighPrice': 215, 'totalCash': 63913000960, 'totalDebt': 122797998080, 'totalRevenue': 378323009536, 'totalCashPerShare': 3.916, 'financialCurrency': 'USD', 'revenuePerShare': 22.838, 'quickRatio': 0.875, 'recommendationMean': 1.8, 'exchange': 'NMS', 'shortName': 'Apple Inc.', 'longName': 'Apple Inc.', 'exchangeTimezoneName': 'America/New_York', 'exchangeTimezoneShortName': 'EDT', 'isEsgPopulated': False, 'gmtOffSetMilliseconds': '-14400000', 'quoteType': 'EQUITY', 'symbol': 'AAPL', 'messageBoardId': 'finmb_24937', 'market': 'us_market', 'annualHoldingsTurnover': None, 'enterpriseToRevenue': 6.653, 'beta3Year': None, 'enterpriseToEbitda': 19.63, '52WeekChange': 0.19949031, 'morningStarRiskRating': None, 'forwardEps': 6.56, 'revenueQuarterlyGrowth': None, 'sharesOutstanding': 16319399936, 'fundInceptionDate': None, 'annualReportExpenseRatio': None, 'totalAssets': None, 'bookValue': 4.402, 'sharesShort': 110322490, 'sharesPercentSharesOut': 0.0068, 'fundFamily': None, 'lastFiscalYearEnd': 1632528000, 'heldPercentInstitutions': 0.59430003, 'netIncomeToCommon': 100554997760, 'trailingEps': 6.015, 'lastDividendValue': 0.22, 'SandP52WeekChange': 0.053094983, 'priceToBook': 35.231712, 'heldPercentInsiders': 0.0007, 'nextFiscalYearEnd': 1695600000, 'yield': None, 'mostRecentQuarter': 1640390400, 'shortRatio': 1.2, 'sharesShortPreviousMonthDate': 1643587200, 'floatShares': 16302795170, 'beta': 1.185531, 'enterpriseValue': 2516919255040, 'priceHint': 2, 'threeYearAverageReturn': None, 'lastSplitDate': 1598832000, 'lastSplitFactor': '4:1', 'legalType': None, 'lastDividendDate': 1643932800, 'morningStarOverallRating': None, 'earningsQuarterlyGrowth': 0.204, 'priceToSalesTrailing12Months': 6.8725734, 'dateShortInterest': 1646006400, 'pegRatio': 1.69, 'ytdReturn': None, 'forwardPE': 23.641768, 'lastCapGain': None, 'shortPercentOfFloat': 0.0068, 'sharesShortPriorMonth': 91388112, 'impliedSharesOutstanding': 0, 'category': None, 'fiveYearAverageReturn': None, 'previousClose': 150.62, 'regularMarketOpen': 150.9, 'twoHundredDayAverage': 153.7353, 'trailingAnnualDividendYield': 0.0057429294, 'payoutRatio': 0.1434, 'volume24Hr': None, 'regularMarketDayHigh': 155.57, 'navPrice': None, 'averageDailyVolume10Day': 95333020, 'regularMarketPreviousClose': 150.62, 'fiftyDayAverage': 168.0858, 'trailingAnnualDividendRate': 0.865, 'open': 150.9, 'toCurrency': None, 'averageVolume10days': 95333020, 'expireDate': None, 'algorithm': None, 'dividendRate': 0.88, 'exDividendDate': 1643932800, 'circulatingSupply': None, 'startDate': None, 'regularMarketDayLow': 150.385, 'currency': 'USD', 'trailingPE': 25.783875, 'regularMarketVolume': 89231766, 'lastMarket': None, 'maxSupply': None, 'openInterest': None, 'marketCap': 2600052719616, 'volumeAllCurrencies': None, 'strikePrice': None, 'averageVolume': 95562583, 'dayLow': 150.385, 'ask': 155.1, 'askSize': 1300, 'volume': 89231766, 'fiftyTwoWeekHigh': 182.94, 'fromCurrency': None, 'fiveYearAvgDividendYield': 1.13, 'fiftyTwoWeekLow': 118.86, 'bid': 155.01, 'tradeable': False, 'dividendYield': 0.0057, 'bidSize': 1200, 'dayHigh': 155.57, 'regularMarketPrice': 155.09, 'preMarketPrice': 150.9, 'logo_url': 'https://logo.clearbit.com/apple.com', 'trailingPegRatio': 3.2017}\n"
          ]
        },
        {
          "output_type": "execute_result",
          "data": {
            "text/plain": [
              "                 Open       High        Low      Close     Volume  Dividends  \\\n",
              "Date                                                                           \n",
              "2016-01-04  23.590636  24.225176  23.450393  24.220577  270597600        0.0   \n",
              "2016-01-05  24.312542  24.335533  23.544658  23.613628  223164000        0.0   \n",
              "2016-01-06  23.119327  23.535458  22.960694  23.151514  273829600        0.0   \n",
              "2016-01-07  22.687104  23.020467  22.169816  22.174414  324377600        0.0   \n",
              "2016-01-08  22.657215  22.785962  22.245684  22.291664  283192000        0.0   \n",
              "...               ...        ...        ...        ...        ...        ...   \n",
              "2018-12-21  38.020592  38.335693  36.268145  36.534767  382978400        0.0   \n",
              "2018-12-24  35.909417  36.733530  35.531296  35.589470  148676800        0.0   \n",
              "2018-12-26  35.945775  38.110276  35.562806  38.095734  234330000        0.0   \n",
              "2018-12-27  37.773364  37.998785  36.374802  37.848503  212468400        0.0   \n",
              "2018-12-28  38.175720  38.422954  37.460683  37.867889  169165600        0.0   \n",
              "\n",
              "            Stock Splits  \n",
              "Date                      \n",
              "2016-01-04             0  \n",
              "2016-01-05             0  \n",
              "2016-01-06             0  \n",
              "2016-01-07             0  \n",
              "2016-01-08             0  \n",
              "...                  ...  \n",
              "2018-12-21             0  \n",
              "2018-12-24             0  \n",
              "2018-12-26             0  \n",
              "2018-12-27             0  \n",
              "2018-12-28             0  \n",
              "\n",
              "[753 rows x 7 columns]"
            ],
            "text/html": [
              "\n",
              "  <div id=\"df-5b013800-f32c-4ad5-bf2b-f5a161061c17\">\n",
              "    <div class=\"colab-df-container\">\n",
              "      <div>\n",
              "<style scoped>\n",
              "    .dataframe tbody tr th:only-of-type {\n",
              "        vertical-align: middle;\n",
              "    }\n",
              "\n",
              "    .dataframe tbody tr th {\n",
              "        vertical-align: top;\n",
              "    }\n",
              "\n",
              "    .dataframe thead th {\n",
              "        text-align: right;\n",
              "    }\n",
              "</style>\n",
              "<table border=\"1\" class=\"dataframe\">\n",
              "  <thead>\n",
              "    <tr style=\"text-align: right;\">\n",
              "      <th></th>\n",
              "      <th>Open</th>\n",
              "      <th>High</th>\n",
              "      <th>Low</th>\n",
              "      <th>Close</th>\n",
              "      <th>Volume</th>\n",
              "      <th>Dividends</th>\n",
              "      <th>Stock Splits</th>\n",
              "    </tr>\n",
              "    <tr>\n",
              "      <th>Date</th>\n",
              "      <th></th>\n",
              "      <th></th>\n",
              "      <th></th>\n",
              "      <th></th>\n",
              "      <th></th>\n",
              "      <th></th>\n",
              "      <th></th>\n",
              "    </tr>\n",
              "  </thead>\n",
              "  <tbody>\n",
              "    <tr>\n",
              "      <th>2016-01-04</th>\n",
              "      <td>23.590636</td>\n",
              "      <td>24.225176</td>\n",
              "      <td>23.450393</td>\n",
              "      <td>24.220577</td>\n",
              "      <td>270597600</td>\n",
              "      <td>0.0</td>\n",
              "      <td>0</td>\n",
              "    </tr>\n",
              "    <tr>\n",
              "      <th>2016-01-05</th>\n",
              "      <td>24.312542</td>\n",
              "      <td>24.335533</td>\n",
              "      <td>23.544658</td>\n",
              "      <td>23.613628</td>\n",
              "      <td>223164000</td>\n",
              "      <td>0.0</td>\n",
              "      <td>0</td>\n",
              "    </tr>\n",
              "    <tr>\n",
              "      <th>2016-01-06</th>\n",
              "      <td>23.119327</td>\n",
              "      <td>23.535458</td>\n",
              "      <td>22.960694</td>\n",
              "      <td>23.151514</td>\n",
              "      <td>273829600</td>\n",
              "      <td>0.0</td>\n",
              "      <td>0</td>\n",
              "    </tr>\n",
              "    <tr>\n",
              "      <th>2016-01-07</th>\n",
              "      <td>22.687104</td>\n",
              "      <td>23.020467</td>\n",
              "      <td>22.169816</td>\n",
              "      <td>22.174414</td>\n",
              "      <td>324377600</td>\n",
              "      <td>0.0</td>\n",
              "      <td>0</td>\n",
              "    </tr>\n",
              "    <tr>\n",
              "      <th>2016-01-08</th>\n",
              "      <td>22.657215</td>\n",
              "      <td>22.785962</td>\n",
              "      <td>22.245684</td>\n",
              "      <td>22.291664</td>\n",
              "      <td>283192000</td>\n",
              "      <td>0.0</td>\n",
              "      <td>0</td>\n",
              "    </tr>\n",
              "    <tr>\n",
              "      <th>...</th>\n",
              "      <td>...</td>\n",
              "      <td>...</td>\n",
              "      <td>...</td>\n",
              "      <td>...</td>\n",
              "      <td>...</td>\n",
              "      <td>...</td>\n",
              "      <td>...</td>\n",
              "    </tr>\n",
              "    <tr>\n",
              "      <th>2018-12-21</th>\n",
              "      <td>38.020592</td>\n",
              "      <td>38.335693</td>\n",
              "      <td>36.268145</td>\n",
              "      <td>36.534767</td>\n",
              "      <td>382978400</td>\n",
              "      <td>0.0</td>\n",
              "      <td>0</td>\n",
              "    </tr>\n",
              "    <tr>\n",
              "      <th>2018-12-24</th>\n",
              "      <td>35.909417</td>\n",
              "      <td>36.733530</td>\n",
              "      <td>35.531296</td>\n",
              "      <td>35.589470</td>\n",
              "      <td>148676800</td>\n",
              "      <td>0.0</td>\n",
              "      <td>0</td>\n",
              "    </tr>\n",
              "    <tr>\n",
              "      <th>2018-12-26</th>\n",
              "      <td>35.945775</td>\n",
              "      <td>38.110276</td>\n",
              "      <td>35.562806</td>\n",
              "      <td>38.095734</td>\n",
              "      <td>234330000</td>\n",
              "      <td>0.0</td>\n",
              "      <td>0</td>\n",
              "    </tr>\n",
              "    <tr>\n",
              "      <th>2018-12-27</th>\n",
              "      <td>37.773364</td>\n",
              "      <td>37.998785</td>\n",
              "      <td>36.374802</td>\n",
              "      <td>37.848503</td>\n",
              "      <td>212468400</td>\n",
              "      <td>0.0</td>\n",
              "      <td>0</td>\n",
              "    </tr>\n",
              "    <tr>\n",
              "      <th>2018-12-28</th>\n",
              "      <td>38.175720</td>\n",
              "      <td>38.422954</td>\n",
              "      <td>37.460683</td>\n",
              "      <td>37.867889</td>\n",
              "      <td>169165600</td>\n",
              "      <td>0.0</td>\n",
              "      <td>0</td>\n",
              "    </tr>\n",
              "  </tbody>\n",
              "</table>\n",
              "<p>753 rows × 7 columns</p>\n",
              "</div>\n",
              "      <button class=\"colab-df-convert\" onclick=\"convertToInteractive('df-5b013800-f32c-4ad5-bf2b-f5a161061c17')\"\n",
              "              title=\"Convert this dataframe to an interactive table.\"\n",
              "              style=\"display:none;\">\n",
              "        \n",
              "  <svg xmlns=\"http://www.w3.org/2000/svg\" height=\"24px\"viewBox=\"0 0 24 24\"\n",
              "       width=\"24px\">\n",
              "    <path d=\"M0 0h24v24H0V0z\" fill=\"none\"/>\n",
              "    <path d=\"M18.56 5.44l.94 2.06.94-2.06 2.06-.94-2.06-.94-.94-2.06-.94 2.06-2.06.94zm-11 1L8.5 8.5l.94-2.06 2.06-.94-2.06-.94L8.5 2.5l-.94 2.06-2.06.94zm10 10l.94 2.06.94-2.06 2.06-.94-2.06-.94-.94-2.06-.94 2.06-2.06.94z\"/><path d=\"M17.41 7.96l-1.37-1.37c-.4-.4-.92-.59-1.43-.59-.52 0-1.04.2-1.43.59L10.3 9.45l-7.72 7.72c-.78.78-.78 2.05 0 2.83L4 21.41c.39.39.9.59 1.41.59.51 0 1.02-.2 1.41-.59l7.78-7.78 2.81-2.81c.8-.78.8-2.07 0-2.86zM5.41 20L4 18.59l7.72-7.72 1.47 1.35L5.41 20z\"/>\n",
              "  </svg>\n",
              "      </button>\n",
              "      \n",
              "  <style>\n",
              "    .colab-df-container {\n",
              "      display:flex;\n",
              "      flex-wrap:wrap;\n",
              "      gap: 12px;\n",
              "    }\n",
              "\n",
              "    .colab-df-convert {\n",
              "      background-color: #E8F0FE;\n",
              "      border: none;\n",
              "      border-radius: 50%;\n",
              "      cursor: pointer;\n",
              "      display: none;\n",
              "      fill: #1967D2;\n",
              "      height: 32px;\n",
              "      padding: 0 0 0 0;\n",
              "      width: 32px;\n",
              "    }\n",
              "\n",
              "    .colab-df-convert:hover {\n",
              "      background-color: #E2EBFA;\n",
              "      box-shadow: 0px 1px 2px rgba(60, 64, 67, 0.3), 0px 1px 3px 1px rgba(60, 64, 67, 0.15);\n",
              "      fill: #174EA6;\n",
              "    }\n",
              "\n",
              "    [theme=dark] .colab-df-convert {\n",
              "      background-color: #3B4455;\n",
              "      fill: #D2E3FC;\n",
              "    }\n",
              "\n",
              "    [theme=dark] .colab-df-convert:hover {\n",
              "      background-color: #434B5C;\n",
              "      box-shadow: 0px 1px 3px 1px rgba(0, 0, 0, 0.15);\n",
              "      filter: drop-shadow(0px 1px 2px rgba(0, 0, 0, 0.3));\n",
              "      fill: #FFFFFF;\n",
              "    }\n",
              "  </style>\n",
              "\n",
              "      <script>\n",
              "        const buttonEl =\n",
              "          document.querySelector('#df-5b013800-f32c-4ad5-bf2b-f5a161061c17 button.colab-df-convert');\n",
              "        buttonEl.style.display =\n",
              "          google.colab.kernel.accessAllowed ? 'block' : 'none';\n",
              "\n",
              "        async function convertToInteractive(key) {\n",
              "          const element = document.querySelector('#df-5b013800-f32c-4ad5-bf2b-f5a161061c17');\n",
              "          const dataTable =\n",
              "            await google.colab.kernel.invokeFunction('convertToInteractive',\n",
              "                                                     [key], {});\n",
              "          if (!dataTable) return;\n",
              "\n",
              "          const docLinkHtml = 'Like what you see? Visit the ' +\n",
              "            '<a target=\"_blank\" href=https://colab.research.google.com/notebooks/data_table.ipynb>data table notebook</a>'\n",
              "            + ' to learn more about interactive tables.';\n",
              "          element.innerHTML = '';\n",
              "          dataTable['output_type'] = 'display_data';\n",
              "          await google.colab.output.renderOutput(dataTable, element);\n",
              "          const docLink = document.createElement('div');\n",
              "          docLink.innerHTML = docLinkHtml;\n",
              "          element.appendChild(docLink);\n",
              "        }\n",
              "      </script>\n",
              "    </div>\n",
              "  </div>\n",
              "  "
            ]
          },
          "metadata": {},
          "execution_count": 300
        }
      ]
    },
    {
      "cell_type": "markdown",
      "metadata": {
        "id": "NkFztSYhJyVA"
      },
      "source": [
        "We will create a Series named \"aapl\" whose values are Apple's daily closing prices, which are of course indexed by dates:"
      ]
    },
    {
      "cell_type": "code",
      "metadata": {
        "id": "QDJbOpCeHW91"
      },
      "source": [
        "aapl = aapl_table['Open']['2016'] #asigna la columna de close del historial donde el año sea 2016"
      ],
      "execution_count": 301,
      "outputs": []
    },
    {
      "cell_type": "code",
      "metadata": {
        "colab": {
          "base_uri": "https://localhost:8080/"
        },
        "id": "SXfgCQJOHW91",
        "outputId": "95f7a0fd-1025-4910-9b37-3e0efb7f90d9"
      },
      "source": [
        "print(aapl) #imprime la serie con el valor de close y el índice de la fecha donde el año sea 2016"
      ],
      "execution_count": 302,
      "outputs": [
        {
          "output_type": "stream",
          "name": "stdout",
          "text": [
            "Date\n",
            "2016-01-04    23.590636\n",
            "2016-01-05    24.312542\n",
            "2016-01-06    23.119327\n",
            "2016-01-07    22.687104\n",
            "2016-01-08    22.657215\n",
            "                ...    \n",
            "2016-12-23    27.166074\n",
            "2016-12-27    27.384646\n",
            "2016-12-28    27.619666\n",
            "2016-12-29    27.368196\n",
            "2016-12-30    27.415201\n",
            "Name: Open, Length: 252, dtype: float64\n"
          ]
        }
      ]
    },
    {
      "cell_type": "markdown",
      "metadata": {
        "id": "waUEgBhzKEcA"
      },
      "source": [
        "Recall that we can fetch a specific data point using series['yyyy-mm-dd']. We can also fetch the data in a specific month using series['yyyy-mm']."
      ]
    },
    {
      "cell_type": "code",
      "metadata": {
        "colab": {
          "base_uri": "https://localhost:8080/"
        },
        "id": "2gS50G0zHW92",
        "outputId": "152487ad-7307-4a99-dbba-aa78c71fe3eb"
      },
      "source": [
        "print(aapl['2016-9']) #imprime la serie con el valor de open y el índice de la fecha donde el año sea 2016 y el mes 9"
      ],
      "execution_count": 303,
      "outputs": [
        {
          "output_type": "stream",
          "name": "stdout",
          "text": [
            "Date\n",
            "2016-09-01    24.817711\n",
            "2016-09-02    25.182471\n",
            "2016-09-06    25.229237\n",
            "2016-09-07    25.212871\n",
            "2016-09-08    25.077253\n",
            "2016-09-09    24.466980\n",
            "2016-09-12    24.001676\n",
            "2016-09-13    25.138047\n",
            "2016-09-14    25.423312\n",
            "2016-09-15    26.622805\n",
            "2016-09-16    26.917418\n",
            "2016-09-19    26.933790\n",
            "2016-09-20    26.433411\n",
            "2016-09-21    26.620469\n",
            "2016-09-22    26.737376\n",
            "2016-09-23    26.753747\n",
            "2016-09-26    26.103723\n",
            "2016-09-27    26.421719\n",
            "2016-09-28    26.583054\n",
            "2016-09-29    26.459131\n",
            "2016-09-30    26.295454\n",
            "Name: Open, dtype: float64\n"
          ]
        }
      ]
    },
    {
      "cell_type": "code",
      "metadata": {
        "colab": {
          "base_uri": "https://localhost:8080/"
        },
        "id": "vpvxGwXtHW92",
        "outputId": "adf5c011-c819-46d2-bc4f-bd3ce0fa290b"
      },
      "source": [
        "aapl['2016-8':'2016-11']  #imprime la serie con el valor de open y el intervalo de los índices de las fechas indicadas "
      ],
      "execution_count": 304,
      "outputs": [
        {
          "output_type": "execute_result",
          "data": {
            "text/plain": [
              "Date\n",
              "2016-08-01    24.281664\n",
              "2016-08-02    24.663063\n",
              "2016-08-03    24.374690\n",
              "2016-08-04    24.686769\n",
              "2016-08-05    24.848107\n",
              "                ...    \n",
              "2016-11-23    26.171942\n",
              "2016-11-25    26.117888\n",
              "2016-11-28    26.188392\n",
              "2016-11-29    26.035628\n",
              "2016-11-30    26.228349\n",
              "Name: Open, Length: 86, dtype: float64"
            ]
          },
          "metadata": {},
          "execution_count": 304
        }
      ]
    },
    {
      "cell_type": "markdown",
      "metadata": {
        "id": "lWwoD39pKNKb"
      },
      "source": [
        ".head(N) and .tail(N) are methods for quickly accessing the first or last N elements."
      ]
    },
    {
      "cell_type": "code",
      "metadata": {
        "colab": {
          "base_uri": "https://localhost:8080/"
        },
        "id": "1eU218ALHW93",
        "outputId": "575a14a8-62db-476a-a085-3e02e970cda2"
      },
      "source": [
        "print(aapl.head(8)) #imprime los primeros 8 elementos de la serie\n",
        "print(aapl.tail(7)) #imprime los últimos 7 elementos de la serie"
      ],
      "execution_count": 307,
      "outputs": [
        {
          "output_type": "stream",
          "name": "stdout",
          "text": [
            "Date\n",
            "2016-01-04    23.590636\n",
            "2016-01-05    24.312542\n",
            "2016-01-06    23.119327\n",
            "2016-01-07    22.687104\n",
            "2016-01-08    22.657215\n",
            "2016-01-11    22.753778\n",
            "2016-01-12    23.117032\n",
            "2016-01-13    23.064154\n",
            "Name: Open, dtype: float64\n",
            "Date\n",
            "2016-12-21    27.450462\n",
            "2016-12-22    27.344698\n",
            "2016-12-23    27.166074\n",
            "2016-12-27    27.384646\n",
            "2016-12-28    27.619666\n",
            "2016-12-29    27.368196\n",
            "2016-12-30    27.415201\n",
            "Name: Open, dtype: float64\n"
          ]
        }
      ]
    },
    {
      "cell_type": "markdown",
      "metadata": {
        "id": "IxhKxtj-KQ66"
      },
      "source": [
        "# Resampling\n",
        "**_series.resample(freq)_** is a class called \"DatetimeIndexResampler\" which groups data in a Series object into regular time intervals. The argument \"freq\" determines the length of each interval.\n",
        "\n",
        "**_series.resample.mean()_** is a complete statement that groups data into intervals, and then compute the mean of each interval. For example, if we want to aggregate the daily data into monthly data by mean:"
      ]
    },
    {
      "cell_type": "code",
      "metadata": {
        "colab": {
          "base_uri": "https://localhost:8080/"
        },
        "id": "rAV8NkHkHW93",
        "outputId": "c655b924-8e6a-4867-c92a-339b9f17dffd"
      },
      "source": [
        "by_month = aapl.resample('M').mean() #agrupa la serie con frecuencia mensual, obteniendo la media de los datos diarios\n",
        "print(by_month)"
      ],
      "execution_count": 308,
      "outputs": [
        {
          "output_type": "stream",
          "name": "stdout",
          "text": [
            "Date\n",
            "2016-01-31    22.693156\n",
            "2016-02-29    22.102554\n",
            "2016-03-31    23.997604\n",
            "2016-04-30    24.683875\n",
            "2016-05-31    22.064643\n",
            "2016-06-30    22.462722\n",
            "2016-07-31    22.895834\n",
            "2016-08-31    25.109799\n",
            "2016-09-30    25.877698\n",
            "2016-10-31    27.063279\n",
            "2016-11-30    25.858821\n",
            "2016-12-31    26.791389\n",
            "Freq: M, Name: Open, dtype: float64\n"
          ]
        }
      ]
    },
    {
      "cell_type": "markdown",
      "metadata": {
        "id": "QDPfVzBEKV6Q"
      },
      "source": [
        "We can also aggregate the data by week:"
      ]
    },
    {
      "cell_type": "code",
      "metadata": {
        "colab": {
          "base_uri": "https://localhost:8080/"
        },
        "id": "aAP3tKkBHW94",
        "outputId": "8f3d9d69-489b-4f00-a6b3-fd067f73f618"
      },
      "source": [
        "by_week = aapl.resample('W').mean() #agrupa la serie con frecuencia semanal, obteniendo la media de los datos diarios\n",
        "print(by_week.head()) #imprime los primeros cinco datos de la serie"
      ],
      "execution_count": 310,
      "outputs": [
        {
          "output_type": "stream",
          "name": "stdout",
          "text": [
            "Date\n",
            "2016-01-10    23.273365\n",
            "2016-01-17    22.714695\n",
            "2016-01-24    22.369836\n",
            "2016-01-31    22.350064\n",
            "2016-02-07    22.085391\n",
            "Freq: W-SUN, Name: Open, dtype: float64\n"
          ]
        }
      ]
    },
    {
      "cell_type": "markdown",
      "metadata": {
        "id": "o_MXSVsILoBS"
      },
      "source": [
        "We can also aggregate the data by month with max:"
      ]
    },
    {
      "cell_type": "code",
      "metadata": {
        "colab": {
          "base_uri": "https://localhost:8080/"
        },
        "id": "gn0wqXBTHW95",
        "outputId": "e1308cad-ea58-47af-992e-3b783ae3926b"
      },
      "source": [
        "aapl.resample('M').max() #agrupa la serie con frecuencia mensual, obteniendo el valor máximo por mes"
      ],
      "execution_count": 312,
      "outputs": [
        {
          "output_type": "execute_result",
          "data": {
            "text/plain": [
              "Date\n",
              "2016-01-31    24.312542\n",
              "2016-02-29    22.847196\n",
              "2016-03-31    25.362146\n",
              "2016-04-30    25.914602\n",
              "2016-05-31    23.181657\n",
              "2016-06-30    23.081653\n",
              "2016-07-31    24.249107\n",
              "2016-08-31    25.633753\n",
              "2016-09-30    26.933790\n",
              "2016-10-31    27.632910\n",
              "2016-11-30    26.529282\n",
              "2016-12-31    27.619666\n",
              "Freq: M, Name: Open, dtype: float64"
            ]
          },
          "metadata": {},
          "execution_count": 312
        }
      ]
    },
    {
      "cell_type": "markdown",
      "metadata": {
        "id": "Z8r46UFlLdAh"
      },
      "source": [
        "We can choose almost any frequency by using the format 'nf', where 'n' is an integer and 'f' is M for month, W for week and D for day."
      ]
    },
    {
      "cell_type": "code",
      "metadata": {
        "colab": {
          "base_uri": "https://localhost:8080/"
        },
        "id": "kdVB_-JFHW96",
        "outputId": "3a875686-9158-42ae-c0cd-fe9122bb122f"
      },
      "source": [
        "three_day = aapl.resample('3D').mean() #agrupa la serie con frecuencia de tres días, obteniendo la media de los datos diarios\n",
        "two_week = aapl.resample('2W').mean() #agrupa la serie con frecuencia de dos semanas, obteniendo la media de los datos diarios\n",
        "two_month = aapl.resample('2M').mean() #agrupa la serie con frecuencia de dos meses, obteniendo la media de los datos diarios\n",
        "\n",
        "\n",
        "print(three_day) #imprime la media aritmética de los datos cada tres días\n",
        "print(two_week) #imprime la media aritmética de los datos cada dos semanas\n",
        "print(two_month ) #imprime la media aritmética de los datos cada dos meses"
      ],
      "execution_count": 314,
      "outputs": [
        {
          "output_type": "stream",
          "name": "stdout",
          "text": [
            "Date\n",
            "2016-01-04    23.674169\n",
            "2016-01-07    22.672160\n",
            "2016-01-10    22.935405\n",
            "2016-01-13    22.567556\n",
            "2016-01-16          NaN\n",
            "                ...    \n",
            "2016-12-17    27.215436\n",
            "2016-12-20    27.410503\n",
            "2016-12-23    27.166074\n",
            "2016-12-26    27.502156\n",
            "2016-12-29    27.391699\n",
            "Freq: 3D, Name: Open, Length: 121, dtype: float64\n",
            "Date\n",
            "2016-01-10    23.273365\n",
            "2016-01-24    22.561424\n",
            "2016-02-07    22.217728\n",
            "2016-02-21    22.032765\n",
            "2016-03-06    22.604714\n",
            "2016-03-20    23.819659\n",
            "2016-04-03    24.686405\n",
            "2016-04-17    25.469864\n",
            "2016-05-01    23.851788\n",
            "2016-05-15    21.664313\n",
            "2016-05-29    22.355131\n",
            "2016-06-12    22.927902\n",
            "2016-06-26    22.394201\n",
            "2016-07-10    22.015230\n",
            "2016-07-24    22.906996\n",
            "2016-08-07    24.061373\n",
            "2016-08-21    25.384261\n",
            "2016-09-04    25.082865\n",
            "2016-09-18    25.343289\n",
            "2016-10-02    26.534187\n",
            "2016-10-16    26.934254\n",
            "2016-10-30    27.241262\n",
            "2016-11-13    25.964441\n",
            "2016-11-27    25.723573\n",
            "2016-12-11    25.976405\n",
            "2016-12-25    27.151977\n",
            "2017-01-08    27.446927\n",
            "Freq: 2W-SUN, Name: Open, dtype: float64\n",
            "Date\n",
            "2016-01-31    22.693156\n",
            "2016-03-31    23.095199\n",
            "2016-05-31    23.374259\n",
            "2016-07-31    22.668966\n",
            "2016-09-30    25.476296\n",
            "2016-11-30    26.461050\n",
            "2017-01-31    26.791389\n",
            "Freq: 2M, Name: Open, dtype: float64\n"
          ]
        }
      ]
    },
    {
      "cell_type": "markdown",
      "metadata": {
        "id": "iy4RqsnwL-Bw"
      },
      "source": [
        "Besides the mean() method, other methods can also be used with the resampler:\n",
        "\n"
      ]
    },
    {
      "cell_type": "code",
      "metadata": {
        "colab": {
          "base_uri": "https://localhost:8080/"
        },
        "id": "DNT8Fx9dHW96",
        "outputId": "392eee8a-485a-4452-caa5-7a41e30da9bb"
      },
      "source": [
        "std = aapl.resample('W').std() #agrupa la serie con frecuencia semanal, obteniendo la desviación estándar de los datos diarios\n",
        "max = aapl.resample('W').max() #agrupa la serie con frecuencia semanal, obteniendo el dato máximo de los datos diarios\n",
        "min = aapl.resample('W').min() #agrupa la serie con frecuencia semanal, obteniendo el dato mínimo de los datos diarios\n",
        "\n",
        "\n",
        "print(std) #imprime la desviación estándar de los datos semanales\n",
        "print(max) #imprime el dato máximo de los datos semanales\n",
        "print(min) #imprime el dato mínimo de los datos semanales"
      ],
      "execution_count": 316,
      "outputs": [
        {
          "output_type": "stream",
          "name": "stdout",
          "text": [
            "Date\n",
            "2016-01-10    0.694194\n",
            "2016-01-17    0.412350\n",
            "2016-01-24    0.373046\n",
            "2016-01-31    0.770236\n",
            "2016-02-07    0.191373\n",
            "2016-02-14    0.238523\n",
            "2016-02-21    0.374504\n",
            "2016-02-28    0.277821\n",
            "2016-03-06    0.526748\n",
            "2016-03-13    0.156046\n",
            "2016-03-20    0.390791\n",
            "2016-03-27    0.125866\n",
            "2016-04-03    0.475035\n",
            "2016-04-10    0.140029\n",
            "2016-04-17    0.318619\n",
            "2016-04-24    0.335304\n",
            "2016-05-01    1.130554\n",
            "2016-05-08    0.121479\n",
            "2016-05-15    0.332927\n",
            "2016-05-22    0.223988\n",
            "2016-05-29    0.373826\n",
            "2016-06-05    0.224455\n",
            "2016-06-12    0.114470\n",
            "2016-06-19    0.213013\n",
            "2016-06-26    0.320591\n",
            "2016-07-03    0.249843\n",
            "2016-07-10    0.181840\n",
            "2016-07-17    0.191212\n",
            "2016-07-24    0.119470\n",
            "2016-07-31    0.812989\n",
            "2016-08-07    0.235010\n",
            "2016-08-14    0.116364\n",
            "2016-08-21    0.130656\n",
            "2016-08-28    0.165265\n",
            "2016-09-04    0.192540\n",
            "2016-09-11    0.359581\n",
            "2016-09-18    1.180979\n",
            "2016-09-25    0.184559\n",
            "2016-10-02    0.181960\n",
            "2016-10-09    0.143343\n",
            "2016-10-16    0.270109\n",
            "2016-10-23    0.128628\n",
            "2016-10-30    0.411629\n",
            "2016-11-06    0.433603\n",
            "2016-11-13    0.355211\n",
            "2016-11-20    0.371628\n",
            "2016-11-27    0.179244\n",
            "2016-12-04    0.228908\n",
            "2016-12-11    0.290902\n",
            "2016-12-18    0.296923\n",
            "2016-12-25    0.128219\n",
            "2017-01-01    0.116794\n",
            "Freq: W-SUN, Name: Open, dtype: float64\n",
            "Date\n",
            "2016-01-10    24.312542\n",
            "2016-01-17    23.117032\n",
            "2016-01-24    22.675610\n",
            "2016-01-31    23.340036\n",
            "2016-02-07    22.310921\n",
            "2016-02-14    22.172226\n",
            "2016-02-21    22.847196\n",
            "2016-02-28    22.468099\n",
            "2016-03-06    23.663166\n",
            "2016-03-13    23.667793\n",
            "2016-03-20    24.580851\n",
            "2016-03-27    24.613210\n",
            "2016-04-03    25.362146\n",
            "2016-04-10    25.523954\n",
            "2016-04-17    25.914602\n",
            "2016-04-24    25.170284\n",
            "2016-05-01    24.271106\n",
            "2016-05-08    22.005795\n",
            "2016-05-15    21.739781\n",
            "2016-05-22    22.009546\n",
            "2016-05-29    23.181657\n",
            "2016-06-05    23.163050\n",
            "2016-06-12    23.081653\n",
            "2016-06-19    22.951417\n",
            "2016-06-26    22.383966\n",
            "2016-07-03    22.207221\n",
            "2016-07-10    22.439782\n",
            "2016-07-17    23.004904\n",
            "2016-07-24    23.256072\n",
            "2016-07-31    24.249107\n",
            "2016-08-07    24.848107\n",
            "2016-08-14    25.418631\n",
            "2016-08-21    25.633753\n",
            "2016-08-28    25.453705\n",
            "2016-09-04    25.182471\n",
            "2016-09-11    25.229237\n",
            "2016-09-18    26.917418\n",
            "2016-09-25    26.933790\n",
            "2016-10-02    26.583054\n",
            "2016-10-09    26.728022\n",
            "2016-10-16    27.562768\n",
            "2016-10-23    27.632910\n",
            "2016-10-30    27.579132\n",
            "2016-11-06    26.573705\n",
            "2016-11-13    26.108485\n",
            "2016-11-20    25.807658\n",
            "2016-11-27    26.310602\n",
            "2016-12-04    26.228349\n",
            "2016-12-11    26.395209\n",
            "2016-12-18    27.372901\n",
            "2016-12-25    27.450462\n",
            "2017-01-01    27.619666\n",
            "Freq: W-SUN, Name: Open, dtype: float64\n",
            "Date\n",
            "2016-01-10    22.657215\n",
            "2016-01-17    22.116939\n",
            "2016-01-24    21.864045\n",
            "2016-01-31    21.562865\n",
            "2016-02-07    21.841052\n",
            "2016-02-14    21.527308\n",
            "2016-02-21    21.964192\n",
            "2016-02-28    21.723793\n",
            "2016-03-06    22.389512\n",
            "2016-03-13    23.295638\n",
            "2016-03-20    23.556840\n",
            "2016-03-27    24.328888\n",
            "2016-04-03    24.245673\n",
            "2016-04-10    25.174915\n",
            "2016-04-17    25.188782\n",
            "2016-04-24    24.273409\n",
            "2016-05-01    21.726102\n",
            "2016-05-08    21.714191\n",
            "2016-05-15    20.930465\n",
            "2016-05-22    21.486283\n",
            "2016-05-29    22.295594\n",
            "2016-06-05    22.697924\n",
            "2016-06-12    22.788623\n",
            "2016-06-19    22.430482\n",
            "2016-06-26    21.607222\n",
            "2016-07-03    21.604887\n",
            "2016-07-10    22.000239\n",
            "2016-07-17    22.500248\n",
            "2016-07-24    22.953737\n",
            "2016-07-31    22.516530\n",
            "2016-08-07    24.281664\n",
            "2016-08-14    25.140387\n",
            "2016-08-21    25.285354\n",
            "2016-08-28    25.109989\n",
            "2016-09-04    24.705481\n",
            "2016-09-11    24.466980\n",
            "2016-09-18    24.001676\n",
            "2016-09-25    26.433411\n",
            "2016-10-02    26.103723\n",
            "2016-10-09    26.353915\n",
            "2016-10-16    26.894036\n",
            "2016-10-23    27.312576\n",
            "2016-10-30    26.625146\n",
            "2016-11-06    25.506833\n",
            "2016-11-13    25.175453\n",
            "2016-11-20    25.046192\n",
            "2016-11-27    25.880514\n",
            "2016-12-04    25.657242\n",
            "2016-12-11    25.678399\n",
            "2016-12-18    26.625529\n",
            "2016-12-25    27.166074\n",
            "2017-01-01    27.368196\n",
            "Freq: W-SUN, Name: Open, dtype: float64\n"
          ]
        }
      ]
    },
    {
      "cell_type": "markdown",
      "metadata": {
        "id": "uqln0s5DMI3I"
      },
      "source": [
        "Often we want to calculate monthly returns of a stock, based on prices on the last day of each month. To fetch those prices, we use the series.resample.agg() method:"
      ]
    },
    {
      "cell_type": "code",
      "metadata": {
        "colab": {
          "base_uri": "https://localhost:8080/"
        },
        "id": "A6FSYvqbHW97",
        "outputId": "70e9df8e-9f10-4ae7-b445-65376b6520e9"
      },
      "source": [
        "last_day = aapl.resample('M').agg(lambda x: x[-1]) #Agrupa los datos diarios en meses y obtiene el dato del último día del mes\n",
        "print(last_day) #imprime el último día de cada mes"
      ],
      "execution_count": 318,
      "outputs": [
        {
          "output_type": "stream",
          "name": "stdout",
          "text": [
            "Date\n",
            "2016-01-31    21.792771\n",
            "2016-02-29    22.389512\n",
            "2016-03-31    25.362146\n",
            "2016-04-30    21.726102\n",
            "2016-05-31    23.163050\n",
            "2016-06-30    21.963036\n",
            "2016-07-31    24.230501\n",
            "2016-08-31    24.705481\n",
            "2016-09-30    26.295454\n",
            "2016-10-31    26.573705\n",
            "2016-11-30    26.228349\n",
            "2016-12-31    27.415201\n",
            "Freq: M, Name: Open, dtype: float64\n"
          ]
        }
      ]
    },
    {
      "cell_type": "markdown",
      "metadata": {
        "id": "uwomY3aXMR46"
      },
      "source": [
        "Or directly calculate the monthly rates of return using the data for the first day and the last day:"
      ]
    },
    {
      "cell_type": "code",
      "metadata": {
        "colab": {
          "base_uri": "https://localhost:8080/"
        },
        "id": "qK2NMJrNHW96",
        "outputId": "45ea9be9-4c70-4c54-cd53-c09bdf1f724b"
      },
      "source": [
        "monthly_return = aapl.resample('M').agg(lambda x: x[-1]/x[0] - 1) #agrupa los datos por meses según la tasa de rendimiento de cada mes\n",
        "print(monthly_return) #imprime los datos por meses según la tasa de rendimiento de cada mes"
      ],
      "execution_count": 321,
      "outputs": [
        {
          "output_type": "stream",
          "name": "stdout",
          "text": [
            "Date\n",
            "2016-01-31   -0.076211\n",
            "2016-02-29    0.009491\n",
            "2016-03-31    0.123605\n",
            "2016-04-30   -0.135963\n",
            "2016-05-31    0.066366\n",
            "2016-06-30   -0.046253\n",
            "2016-07-31    0.091109\n",
            "2016-08-31    0.017454\n",
            "2016-09-30    0.059544\n",
            "2016-10-31    0.008340\n",
            "2016-11-30   -0.011343\n",
            "2016-12-31    0.056899\n",
            "Freq: M, Name: Open, dtype: float64\n"
          ]
        }
      ]
    },
    {
      "cell_type": "markdown",
      "metadata": {
        "id": "_DYbMTFWMj8J"
      },
      "source": [
        "Series object also provides us some convenient methods to do some quick calculation."
      ]
    },
    {
      "cell_type": "code",
      "metadata": {
        "colab": {
          "base_uri": "https://localhost:8080/"
        },
        "id": "1Mxc0HwvHW98",
        "outputId": "25ed3bde-6fba-450d-a755-e5840003c626"
      },
      "source": [
        "print(monthly_return.mean()) #imprime la media de los datos agrupados por meses según la tasa de rendimiento mensual\n",
        "print(monthly_return.std()) #imprime la desviación estándar de los datos agrupados por meses según la tasa de rendimiento mensual\n",
        "print(monthly_return.max()) #imprime el dato máximo de los datos agrupados por meses según la tasa de rendimiento mensual"
      ],
      "execution_count": 323,
      "outputs": [
        {
          "output_type": "stream",
          "name": "stdout",
          "text": [
            "0.013586517343994306\n",
            "0.07359447157886119\n",
            "0.12360496929887121\n"
          ]
        }
      ]
    },
    {
      "cell_type": "markdown",
      "metadata": {
        "id": "mn59J5dqMpqX"
      },
      "source": [
        "Another two methods frequently used on Series are .diff() and .pct_change(). The former calculates the difference between consecutive elements, and the latter calculates the percentage change."
      ]
    },
    {
      "cell_type": "code",
      "metadata": {
        "colab": {
          "base_uri": "https://localhost:8080/"
        },
        "id": "DupZTSqqHW99",
        "outputId": "0287c6ae-3570-45c1-c119-3bbfe2543b23"
      },
      "source": [
        "print(last_day.diff()) #imprime los datos con la diferencia entre elementos consecutivos\n",
        "print(last_day.pct_change()) #imprime los datos con los porcentajes de cambio"
      ],
      "execution_count": 324,
      "outputs": [
        {
          "output_type": "stream",
          "name": "stdout",
          "text": [
            "Date\n",
            "2016-01-31         NaN\n",
            "2016-02-29    0.596740\n",
            "2016-03-31    2.972634\n",
            "2016-04-30   -3.636044\n",
            "2016-05-31    1.436948\n",
            "2016-06-30   -1.200014\n",
            "2016-07-31    2.267465\n",
            "2016-08-31    0.474980\n",
            "2016-09-30    1.589972\n",
            "2016-10-31    0.278252\n",
            "2016-11-30   -0.345357\n",
            "2016-12-31    1.186852\n",
            "Freq: M, Name: Open, dtype: float64\n",
            "Date\n",
            "2016-01-31         NaN\n",
            "2016-02-29    0.027382\n",
            "2016-03-31    0.132769\n",
            "2016-04-30   -0.143365\n",
            "2016-05-31    0.066139\n",
            "2016-06-30   -0.051807\n",
            "2016-07-31    0.103240\n",
            "2016-08-31    0.019603\n",
            "2016-09-30    0.064357\n",
            "2016-10-31    0.010582\n",
            "2016-11-30   -0.012996\n",
            "2016-12-31    0.045251\n",
            "Freq: M, Name: Open, dtype: float64\n"
          ]
        }
      ]
    },
    {
      "cell_type": "markdown",
      "metadata": {
        "id": "RaMAOFepM6Io"
      },
      "source": [
        "Notice that we induced a NaN value while calculating percentage changes i.e. returns.\n",
        "\n",
        "When dealing with NaN values, we usually either removing the data point or fill it with a specific value. Here we fill it with 0:"
      ]
    },
    {
      "cell_type": "code",
      "metadata": {
        "colab": {
          "base_uri": "https://localhost:8080/"
        },
        "id": "-xyLb3A3HW99",
        "outputId": "635b003a-1f1c-48d7-e815-66bcc6492d06"
      },
      "source": [
        "daily_return = last_day.pct_change() #asigna los datos con los porcentajes de cambio\n",
        "print(daily_return.fillna(0)) #imprime la serie y reemplaza los valores NaN por 0"
      ],
      "execution_count": 325,
      "outputs": [
        {
          "output_type": "stream",
          "name": "stdout",
          "text": [
            "Date\n",
            "2016-01-31    0.000000\n",
            "2016-02-29    0.027382\n",
            "2016-03-31    0.132769\n",
            "2016-04-30   -0.143365\n",
            "2016-05-31    0.066139\n",
            "2016-06-30   -0.051807\n",
            "2016-07-31    0.103240\n",
            "2016-08-31    0.019603\n",
            "2016-09-30    0.064357\n",
            "2016-10-31    0.010582\n",
            "2016-11-30   -0.012996\n",
            "2016-12-31    0.045251\n",
            "Freq: M, Name: Open, dtype: float64\n"
          ]
        }
      ]
    },
    {
      "cell_type": "markdown",
      "metadata": {
        "id": "BYS10Om1NQVC"
      },
      "source": [
        "Alternatively, we can fill a NaN with the next fitted value. This is called 'backward fill', or 'bfill' in short:"
      ]
    },
    {
      "cell_type": "code",
      "metadata": {
        "colab": {
          "base_uri": "https://localhost:8080/"
        },
        "id": "J513kHeKHW9-",
        "outputId": "35bbf6a5-506f-447b-fc0e-8e04300a3de2"
      },
      "source": [
        "daily_return = last_day.pct_change()  #asigna los datos con los porcentajes de cambio\n",
        "print(daily_return.fillna(method = 'bfill'))  #imprime la serie y reemplaza los valores NaN con el siguiente valor de la serie"
      ],
      "execution_count": 326,
      "outputs": [
        {
          "output_type": "stream",
          "name": "stdout",
          "text": [
            "Date\n",
            "2016-01-31    0.027382\n",
            "2016-02-29    0.027382\n",
            "2016-03-31    0.132769\n",
            "2016-04-30   -0.143365\n",
            "2016-05-31    0.066139\n",
            "2016-06-30   -0.051807\n",
            "2016-07-31    0.103240\n",
            "2016-08-31    0.019603\n",
            "2016-09-30    0.064357\n",
            "2016-10-31    0.010582\n",
            "2016-11-30   -0.012996\n",
            "2016-12-31    0.045251\n",
            "Freq: M, Name: Open, dtype: float64\n"
          ]
        }
      ]
    },
    {
      "cell_type": "markdown",
      "metadata": {
        "id": "bj8QUSgdNepf"
      },
      "source": [
        "As expected, since there is a 'backward fill' method, there must be a 'forward fill' method, or 'ffill' in short. However we can't use it here because the NaN is the first value.\n",
        "\n",
        "We can also simply remove NaN values by **_.dropna()_**"
      ]
    },
    {
      "cell_type": "code",
      "metadata": {
        "colab": {
          "base_uri": "https://localhost:8080/"
        },
        "id": "WG5ux1lqHW9-",
        "outputId": "38852d0d-ee28-4f3f-d0df-b84de7bdc4e6"
      },
      "source": [
        "daily_return = last_day.pct_change() #asigna los datos con los porcentajes de cambio\n",
        "daily_return.dropna() #imprime la serie y elimina los datos donde el resultado es NaN"
      ],
      "execution_count": 328,
      "outputs": [
        {
          "output_type": "execute_result",
          "data": {
            "text/plain": [
              "Date\n",
              "2016-02-29    0.027382\n",
              "2016-03-31    0.132769\n",
              "2016-04-30   -0.143365\n",
              "2016-05-31    0.066139\n",
              "2016-06-30   -0.051807\n",
              "2016-07-31    0.103240\n",
              "2016-08-31    0.019603\n",
              "2016-09-30    0.064357\n",
              "2016-10-31    0.010582\n",
              "2016-11-30   -0.012996\n",
              "2016-12-31    0.045251\n",
              "Freq: M, Name: Open, dtype: float64"
            ]
          },
          "metadata": {},
          "execution_count": 328
        }
      ]
    },
    {
      "cell_type": "markdown",
      "metadata": {
        "id": "nQH2eBWkNjdC"
      },
      "source": [
        "# DataFrame\n",
        "The **DataFrame** is the most commonly used data structure in Pandas. It is essentially a table, just like an Excel spreadsheet.\n",
        "\n",
        "More precisely, a DataFrame is a collection of Series objects, each of which may contain different data types. A DataFrame can be created from various data types: dictionary, 2-D numpy.ndarray, a Series or another DataFrame.\n",
        "\n",
        "## Create DataFrames\n",
        "The most common method of creating a DataFrame is passing a dictionary:"
      ]
    },
    {
      "cell_type": "code",
      "metadata": {
        "colab": {
          "base_uri": "https://localhost:8080/"
        },
        "id": "vd5Wf1ohHW9-",
        "outputId": "b7902fd4-cdc4-4314-94dd-7f143b83f71c"
      },
      "source": [
        "import pandas as pd\n",
        "\n",
        "dict = {'AAPL': [143.5, 144.09, 142.73, 144.18, 143.77],'GOOG':[898.7, 911.71, 906.69, 918.59, 926.99],\n",
        "        'IBM':[155.58, 153.67, 152.36, 152.94, 153.49]} #Declaración de diccionario\n",
        "data_index = pd.date_range('2017-07-03',periods = 5, freq = 'D') #declara el intervalo de tiempo con fecha de inicio, numero de periodos y frecuencia\n",
        "df = pd.DataFrame(dict, index = data_index) #crea el DataFrame del diccionario con los indices de tiempo\n",
        "print(df) #imprime el DataFrame"
      ],
      "execution_count": 331,
      "outputs": [
        {
          "output_type": "stream",
          "name": "stdout",
          "text": [
            "              AAPL    GOOG     IBM\n",
            "2017-07-03  143.50  898.70  155.58\n",
            "2017-07-04  144.09  911.71  153.67\n",
            "2017-07-05  142.73  906.69  152.36\n",
            "2017-07-06  144.18  918.59  152.94\n",
            "2017-07-07  143.77  926.99  153.49\n"
          ]
        }
      ]
    },
    {
      "cell_type": "markdown",
      "metadata": {
        "id": "0uYmLQTgOPnX"
      },
      "source": [
        "## Manipulating DataFrames\n",
        "We can fetch values in a DataFrame by columns and index. Each column in a DataFrame is essentially a Pandas Series. We can fetch a column by square brackets: **df['column_name']**\n",
        "\n",
        "If a column name contains no spaces, then we can also use df.column_name to fetch a column:"
      ]
    },
    {
      "cell_type": "code",
      "metadata": {
        "colab": {
          "base_uri": "https://localhost:8080/"
        },
        "id": "2pB2f7lBHW9_",
        "outputId": "282c1c5e-63cd-4689-debf-d18ede1f6d44"
      },
      "source": [
        "df = aapl_table #iguala df a la tabla que se manejó anteriormente\n",
        "print(df.Close.tail(5)) #imprime los últimos cinco datos de la columna Close \n",
        "print(df['Volume'].tail(5)) #imprime los últimos cinco datos de la columna Volume"
      ],
      "execution_count": 333,
      "outputs": [
        {
          "output_type": "stream",
          "name": "stdout",
          "text": [
            "Date\n",
            "2018-12-21    36.534767\n",
            "2018-12-24    35.589470\n",
            "2018-12-26    38.095734\n",
            "2018-12-27    37.848503\n",
            "2018-12-28    37.867889\n",
            "Name: Close, dtype: float64\n",
            "Date\n",
            "2018-12-21    382978400\n",
            "2018-12-24    148676800\n",
            "2018-12-26    234330000\n",
            "2018-12-27    212468400\n",
            "2018-12-28    169165600\n",
            "Name: Volume, dtype: int64\n"
          ]
        }
      ]
    },
    {
      "cell_type": "markdown",
      "metadata": {
        "id": "z0ugOel9O4-P"
      },
      "source": [
        "All the methods we applied to a Series index such as iloc[], loc[] and resampling methods, can also be applied to a DataFrame:"
      ]
    },
    {
      "cell_type": "code",
      "metadata": {
        "colab": {
          "base_uri": "https://localhost:8080/"
        },
        "id": "_8dfjkedHW9_",
        "outputId": "1b23963a-7691-4096-be21-1f1d69bd824f"
      },
      "source": [
        "aapl_2016 = df['2016'] #Asigna los valores del DataFrame de 2016\n",
        "aapl_month = aapl_2016.resample('M').agg(lambda x: x[-1]) #Agrupa los datos por meses con él último día de cada mes\n",
        "print(aapl_month) #imprime el DataFrame"
      ],
      "execution_count": 336,
      "outputs": [
        {
          "output_type": "stream",
          "name": "stdout",
          "text": [
            "                 Open       High        Low      Close     Volume  Dividends  \\\n",
            "Date                                                                           \n",
            "2016-01-31  21.792771  22.379030  21.691612  22.379030  257666000        0.0   \n",
            "2016-02-29  22.389512  22.706192  22.340970  22.350216  140865200        0.0   \n",
            "2016-03-31  25.362146  25.403754  25.167976  25.193403  103553600        0.0   \n",
            "2016-04-30  21.726102  21.894845  21.383996  21.668314  274126000        0.0   \n",
            "2016-05-31  23.163050  23.349099  22.981653  23.223516  169228800        0.0   \n",
            "2016-06-30  21.963036  22.272340  21.930477  22.232805  143345600        0.0   \n",
            "2016-07-31  24.230501  24.314223  24.111894  24.235151  110934800        0.0   \n",
            "2016-08-31  24.705481  24.918257  24.700804  24.808361  118649600        0.0   \n",
            "2016-09-30  26.295454  26.508231  26.141133  26.433409  145516400        0.0   \n",
            "2016-10-31  26.573705  26.709322  26.468485  26.547985  105677600        0.0   \n",
            "2016-11-30  26.228349  26.369361  25.915770  25.974525  144649200        0.0   \n",
            "2016-12-31  27.415201  27.544461  27.128475  27.220133  122345200        0.0   \n",
            "\n",
            "            Stock Splits  \n",
            "Date                      \n",
            "2016-01-31             0  \n",
            "2016-02-29             0  \n",
            "2016-03-31             0  \n",
            "2016-04-30             0  \n",
            "2016-05-31             0  \n",
            "2016-06-30             0  \n",
            "2016-07-31             0  \n",
            "2016-08-31             0  \n",
            "2016-09-30             0  \n",
            "2016-10-31             0  \n",
            "2016-11-30             0  \n",
            "2016-12-31             0  \n"
          ]
        },
        {
          "output_type": "stream",
          "name": "stderr",
          "text": [
            "/usr/local/lib/python3.7/dist-packages/ipykernel_launcher.py:1: FutureWarning: Indexing a DataFrame with a datetimelike index using a single string to slice the rows, like `frame[string]`, is deprecated and will be removed in a future version. Use `frame.loc[string]` instead.\n",
            "  \"\"\"Entry point for launching an IPython kernel.\n"
          ]
        }
      ]
    },
    {
      "cell_type": "markdown",
      "metadata": {
        "id": "CqrbrbFZPTJe"
      },
      "source": [
        "We may select certain columns of a DataFrame using their names:"
      ]
    },
    {
      "cell_type": "code",
      "metadata": {
        "colab": {
          "base_uri": "https://localhost:8080/"
        },
        "id": "7bQGeyCAHW9_",
        "outputId": "de012ae0-cb20-404b-d8c2-9e330f79cf8f"
      },
      "source": [
        "aapl_bar = aapl_month[['Open', 'Low', 'High', 'Close']] #asigna el DataFrame con el orden de columnas indicado\n",
        "print(aapl_bar) #Imprime el DataFrame"
      ],
      "execution_count": 338,
      "outputs": [
        {
          "output_type": "stream",
          "name": "stdout",
          "text": [
            "                 Open        Low       High      Close\n",
            "Date                                                  \n",
            "2016-01-31  21.792771  21.691612  22.379030  22.379030\n",
            "2016-02-29  22.389512  22.340970  22.706192  22.350216\n",
            "2016-03-31  25.362146  25.167976  25.403754  25.193403\n",
            "2016-04-30  21.726102  21.383996  21.894845  21.668314\n",
            "2016-05-31  23.163050  22.981653  23.349099  23.223516\n",
            "2016-06-30  21.963036  21.930477  22.272340  22.232805\n",
            "2016-07-31  24.230501  24.111894  24.314223  24.235151\n",
            "2016-08-31  24.705481  24.700804  24.918257  24.808361\n",
            "2016-09-30  26.295454  26.141133  26.508231  26.433409\n",
            "2016-10-31  26.573705  26.468485  26.709322  26.547985\n",
            "2016-11-30  26.228349  25.915770  26.369361  25.974525\n",
            "2016-12-31  27.415201  27.128475  27.544461  27.220133\n"
          ]
        }
      ]
    },
    {
      "cell_type": "markdown",
      "metadata": {
        "id": "8CQaZCAQP68O"
      },
      "source": [
        "We can even specify both rows and columns using loc[]. The row indices and column names are separated by a comma:"
      ]
    },
    {
      "cell_type": "code",
      "metadata": {
        "colab": {
          "base_uri": "https://localhost:8080/"
        },
        "id": "YjWWiHVpHW-A",
        "outputId": "5e3da427-cea2-4764-fc8d-495afd88dce3"
      },
      "source": [
        "print(aapl_month.loc['2016-03':'2016-06',['Open', 'High', 'Low', 'Close']]) #imprime los datos por meses según el intervalo de tiempo y columnas indicadas"
      ],
      "execution_count": 339,
      "outputs": [
        {
          "output_type": "stream",
          "name": "stdout",
          "text": [
            "                 Open       High        Low      Close\n",
            "Date                                                  \n",
            "2016-03-31  25.362146  25.403754  25.167976  25.193403\n",
            "2016-04-30  21.726102  21.894845  21.383996  21.668314\n",
            "2016-05-31  23.163050  23.349099  22.981653  23.223516\n",
            "2016-06-30  21.963036  22.272340  21.930477  22.232805\n"
          ]
        }
      ]
    },
    {
      "cell_type": "markdown",
      "metadata": {
        "id": "Xcn_pHNLQBEH"
      },
      "source": [
        "The subset methods in DataFrame is quite useful. By writing logical statements in square brackets, we can make customized subsets:"
      ]
    },
    {
      "cell_type": "code",
      "metadata": {
        "colab": {
          "base_uri": "https://localhost:8080/"
        },
        "id": "RxKg4dObHW-A",
        "outputId": "a65d2a50-4060-4909-efa2-ad21c97db3f8"
      },
      "source": [
        "import numpy as np #Importación de librería numpy\n",
        "\n",
        "above = aapl_bar[aapl_bar.Close > np.mean(aapl_bar.Close)] #Guarda los datos donde los valores de Close son mayores a la media de todos los valores de Close \n",
        "print(above) #imprime el DataFrame"
      ],
      "execution_count": 342,
      "outputs": [
        {
          "output_type": "stream",
          "name": "stdout",
          "text": [
            "                 Open        Low       High      Close\n",
            "Date                                                  \n",
            "2016-03-31  25.362146  25.167976  25.403754  25.193403\n",
            "2016-08-31  24.705481  24.700804  24.918257  24.808361\n",
            "2016-09-30  26.295454  26.141133  26.508231  26.433409\n",
            "2016-10-31  26.573705  26.468485  26.709322  26.547985\n",
            "2016-11-30  26.228349  25.915770  26.369361  25.974525\n",
            "2016-12-31  27.415201  27.128475  27.544461  27.220133\n"
          ]
        }
      ]
    },
    {
      "cell_type": "markdown",
      "metadata": {
        "id": "wcm_UadkQLL5"
      },
      "source": [
        "## Data Validation\n",
        "As mentioned, all methods that apply to a Series can also be applied to a DataFrame. Here we add a new column to an existing DataFrame:"
      ]
    },
    {
      "cell_type": "code",
      "metadata": {
        "colab": {
          "base_uri": "https://localhost:8080/"
        },
        "id": "jZXFdOVFHW-A",
        "outputId": "4ff2068e-54ad-4083-c17d-0b45b1301da5"
      },
      "source": [
        "aapl_bar['rate_return'] = aapl_bar.Close.pct_change() #agrega una nueva columna al DataFrame con los porcentajes de cambio de Close\n",
        "print(aapl_bar) #imprime el DataFrame con la nueva columna"
      ],
      "execution_count": 344,
      "outputs": [
        {
          "output_type": "stream",
          "name": "stdout",
          "text": [
            "                 Open        Low       High      Close  rate_return\n",
            "Date                                                               \n",
            "2016-01-31  21.792771  21.691612  22.379030  22.379030          NaN\n",
            "2016-02-29  22.389512  22.340970  22.706192  22.350216    -0.001288\n",
            "2016-03-31  25.362146  25.167976  25.403754  25.193403     0.127211\n",
            "2016-04-30  21.726102  21.383996  21.894845  21.668314    -0.139921\n",
            "2016-05-31  23.163050  22.981653  23.349099  23.223516     0.071773\n",
            "2016-06-30  21.963036  21.930477  22.272340  22.232805    -0.042660\n",
            "2016-07-31  24.230501  24.111894  24.314223  24.235151     0.090063\n",
            "2016-08-31  24.705481  24.700804  24.918257  24.808361     0.023652\n",
            "2016-09-30  26.295454  26.141133  26.508231  26.433409     0.065504\n",
            "2016-10-31  26.573705  26.468485  26.709322  26.547985     0.004335\n",
            "2016-11-30  26.228349  25.915770  26.369361  25.974525    -0.021601\n",
            "2016-12-31  27.415201  27.128475  27.544461  27.220133     0.047955\n"
          ]
        },
        {
          "output_type": "stream",
          "name": "stderr",
          "text": [
            "/usr/local/lib/python3.7/dist-packages/ipykernel_launcher.py:1: SettingWithCopyWarning: \n",
            "A value is trying to be set on a copy of a slice from a DataFrame.\n",
            "Try using .loc[row_indexer,col_indexer] = value instead\n",
            "\n",
            "See the caveats in the documentation: https://pandas.pydata.org/pandas-docs/stable/user_guide/indexing.html#returning-a-view-versus-a-copy\n",
            "  \"\"\"Entry point for launching an IPython kernel.\n"
          ]
        }
      ]
    },
    {
      "cell_type": "markdown",
      "metadata": {
        "id": "_or6n5-LQUa-"
      },
      "source": [
        "Here the calculation introduced a NaN value. If the DataFrame is large, we would not be able to observe it. **isnull()** provides a convenient way to check abnormal values."
      ]
    },
    {
      "cell_type": "code",
      "metadata": {
        "colab": {
          "base_uri": "https://localhost:8080/"
        },
        "id": "V5wgmhIPHW-B",
        "outputId": "a72091ca-216e-4986-8654-0a8ed77d84ea"
      },
      "source": [
        "missing = aapl_bar.isnull() #modifica los valores en el DataFrame si encuentra un valor null lo reemplaza por true\n",
        "print(missing)  #imprime el DataFrame resultante de aplicar el método isnull()\n",
        "print('---------------------------------------------') #imprime línea de caracteres\n",
        "print(missing.describe()) #imprime el resumen estadístico del DataFrame"
      ],
      "execution_count": 345,
      "outputs": [
        {
          "output_type": "stream",
          "name": "stdout",
          "text": [
            "             Open    Low   High  Close  rate_return\n",
            "Date                                               \n",
            "2016-01-31  False  False  False  False         True\n",
            "2016-02-29  False  False  False  False        False\n",
            "2016-03-31  False  False  False  False        False\n",
            "2016-04-30  False  False  False  False        False\n",
            "2016-05-31  False  False  False  False        False\n",
            "2016-06-30  False  False  False  False        False\n",
            "2016-07-31  False  False  False  False        False\n",
            "2016-08-31  False  False  False  False        False\n",
            "2016-09-30  False  False  False  False        False\n",
            "2016-10-31  False  False  False  False        False\n",
            "2016-11-30  False  False  False  False        False\n",
            "2016-12-31  False  False  False  False        False\n",
            "---------------------------------------------\n",
            "         Open    Low   High  Close rate_return\n",
            "count      12     12     12     12          12\n",
            "unique      1      1      1      1           2\n",
            "top     False  False  False  False       False\n",
            "freq       12     12     12     12          11\n"
          ]
        }
      ]
    },
    {
      "cell_type": "markdown",
      "metadata": {
        "id": "d6KFV4i0QfLW"
      },
      "source": [
        "The row labelled \"unique\" indicates the number of unique values in each column. Since the \"rate_return\" column has 2 unique values, it has at least one missing value.\n",
        "\n",
        "We can deduce the number of missing values by comparing \"count\" with \"freq\". There are 12 counts and 11 False values, so there is one True value which corresponds to the missing value.\n",
        "\n",
        "We can also find the rows with missing values easily:"
      ]
    },
    {
      "cell_type": "code",
      "metadata": {
        "colab": {
          "base_uri": "https://localhost:8080/"
        },
        "id": "Eo0ZAhCsHW-B",
        "outputId": "43d2b21a-313d-438f-c53c-3ddd1679225a"
      },
      "source": [
        "print(missing[missing.rate_return == True]) #verifica los datos de rate_return e imprime los valores en donde es True"
      ],
      "execution_count": 347,
      "outputs": [
        {
          "output_type": "stream",
          "name": "stdout",
          "text": [
            "             Open    Low   High  Close  rate_return\n",
            "Date                                               \n",
            "2016-01-31  False  False  False  False         True\n"
          ]
        }
      ]
    },
    {
      "cell_type": "markdown",
      "metadata": {
        "id": "qgggpD8OQkZX"
      },
      "source": [
        "Usually when dealing with missing data, we either delete the whole row or fill it with some value. As we introduced in the Series chapter, the same method **dropna()** and **fillna()** can be applied to a DataFrame."
      ]
    },
    {
      "cell_type": "code",
      "metadata": {
        "colab": {
          "base_uri": "https://localhost:8080/"
        },
        "id": "j8PaIokjHW-B",
        "outputId": "a763d397-27e1-422a-e3c4-37fde96b5458"
      },
      "source": [
        "drop = aapl_bar.dropna() #elimina las filas donde rate_return es NaN\n",
        "print(drop) #imprime el DataFrame al cual se le aplicó dropna()\n",
        "print('\\n--------------------------------------------------\\n')\n",
        "fill = aapl_bar.fillna(0) #reemplaza los valores de NaN en rate_return con 0\n",
        "print(fill) #imprime el DataFrame al cual se le aplicó fillna()"
      ],
      "execution_count": 349,
      "outputs": [
        {
          "output_type": "stream",
          "name": "stdout",
          "text": [
            "                 Open        Low       High      Close  rate_return\n",
            "Date                                                               \n",
            "2016-02-29  22.389512  22.340970  22.706192  22.350216    -0.001288\n",
            "2016-03-31  25.362146  25.167976  25.403754  25.193403     0.127211\n",
            "2016-04-30  21.726102  21.383996  21.894845  21.668314    -0.139921\n",
            "2016-05-31  23.163050  22.981653  23.349099  23.223516     0.071773\n",
            "2016-06-30  21.963036  21.930477  22.272340  22.232805    -0.042660\n",
            "2016-07-31  24.230501  24.111894  24.314223  24.235151     0.090063\n",
            "2016-08-31  24.705481  24.700804  24.918257  24.808361     0.023652\n",
            "2016-09-30  26.295454  26.141133  26.508231  26.433409     0.065504\n",
            "2016-10-31  26.573705  26.468485  26.709322  26.547985     0.004335\n",
            "2016-11-30  26.228349  25.915770  26.369361  25.974525    -0.021601\n",
            "2016-12-31  27.415201  27.128475  27.544461  27.220133     0.047955\n",
            "\n",
            "--------------------------------------------------\n",
            "\n",
            "                 Open        Low       High      Close  rate_return\n",
            "Date                                                               \n",
            "2016-01-31  21.792771  21.691612  22.379030  22.379030     0.000000\n",
            "2016-02-29  22.389512  22.340970  22.706192  22.350216    -0.001288\n",
            "2016-03-31  25.362146  25.167976  25.403754  25.193403     0.127211\n",
            "2016-04-30  21.726102  21.383996  21.894845  21.668314    -0.139921\n",
            "2016-05-31  23.163050  22.981653  23.349099  23.223516     0.071773\n",
            "2016-06-30  21.963036  21.930477  22.272340  22.232805    -0.042660\n",
            "2016-07-31  24.230501  24.111894  24.314223  24.235151     0.090063\n",
            "2016-08-31  24.705481  24.700804  24.918257  24.808361     0.023652\n",
            "2016-09-30  26.295454  26.141133  26.508231  26.433409     0.065504\n",
            "2016-10-31  26.573705  26.468485  26.709322  26.547985     0.004335\n",
            "2016-11-30  26.228349  25.915770  26.369361  25.974525    -0.021601\n",
            "2016-12-31  27.415201  27.128475  27.544461  27.220133     0.047955\n"
          ]
        }
      ]
    },
    {
      "cell_type": "markdown",
      "metadata": {
        "id": "0tvoFlKWQxYG"
      },
      "source": [
        "## DataFrame Concat\n",
        "We have seen how to extract a Series from a dataFrame. Now we need to consider how to merge a Series or a DataFrame into another one.\n",
        "\n",
        "In Pandas, the function **concat()** allows us to merge multiple Series into a DataFrame:"
      ]
    },
    {
      "cell_type": "code",
      "metadata": {
        "colab": {
          "base_uri": "https://localhost:8080/"
        },
        "id": "uQrmLIWKHW-C",
        "outputId": "5d7e57df-3684-4b95-93dc-69115a4384d6"
      },
      "source": [
        "s1 = pd.Series([143.5, 144.09, 142.73, 144.18, 143.77], name = 'AAPL') #Declaración de serie\n",
        "s2 = pd.Series([898.7, 911.71, 906.69, 918.59, 926.99], name = 'GOOG') #Declaración de serie\n",
        "data_frame = pd.concat([s1,s2], axis = 1) #Concatena las series s1 y s2 en un DataFrame por columnas\n",
        "print(data_frame) #Imprime el DataFrame"
      ],
      "execution_count": 352,
      "outputs": [
        {
          "output_type": "stream",
          "name": "stdout",
          "text": [
            "     AAPL    GOOG\n",
            "0  143.50  898.70\n",
            "1  144.09  911.71\n",
            "2  142.73  906.69\n",
            "3  144.18  918.59\n",
            "4  143.77  926.99\n"
          ]
        }
      ]
    },
    {
      "cell_type": "markdown",
      "metadata": {
        "id": "3ojbNYJLR2vv"
      },
      "source": [
        "The \"axis = 1\" parameter will join two DataFrames by columns:"
      ]
    },
    {
      "cell_type": "code",
      "metadata": {
        "colab": {
          "base_uri": "https://localhost:8080/"
        },
        "id": "DJsaLd-cRoIm",
        "outputId": "9a9f9e65-2545-4a3c-dce7-2d7bb6243cde"
      },
      "source": [
        "log_price = np.log(aapl_bar.Close) #crea una serie con los valores de logaritmo natural de Close\n",
        "log_price.name = 'log_price' #asigna el nombre a la serie\n",
        "print(log_price)  #imprime la serie\n",
        "print('\\n---------------------- separate line--------------------\\n') #Cadena de caracteres\n",
        "concat = pd.concat([aapl_bar, log_price], axis = 1) #Concatena las series indicadas en un DataFrame por columnas\n",
        "print(concat) #imprime el DataFrame"
      ],
      "execution_count": 354,
      "outputs": [
        {
          "output_type": "stream",
          "name": "stdout",
          "text": [
            "Date\n",
            "2016-01-31    3.108124\n",
            "2016-02-29    3.106836\n",
            "2016-03-31    3.226582\n",
            "2016-04-30    3.075851\n",
            "2016-05-31    3.145165\n",
            "2016-06-30    3.101569\n",
            "2016-07-31    3.187804\n",
            "2016-08-31    3.211181\n",
            "2016-09-30    3.274629\n",
            "2016-10-31    3.278954\n",
            "2016-11-30    3.257116\n",
            "2016-12-31    3.303957\n",
            "Freq: M, Name: log_price, dtype: float64\n",
            "\n",
            "---------------------- separate line--------------------\n",
            "\n",
            "                 Open        Low       High      Close  rate_return  log_price\n",
            "Date                                                                          \n",
            "2016-01-31  21.792771  21.691612  22.379030  22.379030          NaN   3.108124\n",
            "2016-02-29  22.389512  22.340970  22.706192  22.350216    -0.001288   3.106836\n",
            "2016-03-31  25.362146  25.167976  25.403754  25.193403     0.127211   3.226582\n",
            "2016-04-30  21.726102  21.383996  21.894845  21.668314    -0.139921   3.075851\n",
            "2016-05-31  23.163050  22.981653  23.349099  23.223516     0.071773   3.145165\n",
            "2016-06-30  21.963036  21.930477  22.272340  22.232805    -0.042660   3.101569\n",
            "2016-07-31  24.230501  24.111894  24.314223  24.235151     0.090063   3.187804\n",
            "2016-08-31  24.705481  24.700804  24.918257  24.808361     0.023652   3.211181\n",
            "2016-09-30  26.295454  26.141133  26.508231  26.433409     0.065504   3.274629\n",
            "2016-10-31  26.573705  26.468485  26.709322  26.547985     0.004335   3.278954\n",
            "2016-11-30  26.228349  25.915770  26.369361  25.974525    -0.021601   3.257116\n",
            "2016-12-31  27.415201  27.128475  27.544461  27.220133     0.047955   3.303957\n"
          ]
        }
      ]
    },
    {
      "cell_type": "markdown",
      "metadata": {
        "id": "mIZz-FUyR_62"
      },
      "source": [
        "We can also join two DataFrames by rows. Consider these two DataFrames:"
      ]
    },
    {
      "cell_type": "code",
      "metadata": {
        "colab": {
          "base_uri": "https://localhost:8080/"
        },
        "id": "W7uXZptLHW-C",
        "outputId": "95874eaa-b35b-44a6-c52c-7771ef40b213"
      },
      "source": [
        "df_volume = aapl_table.loc['2016-10':'2017-04',['Volume', 'Stock Splits']].resample('M').agg(lambda x: x[-1]) #crea la serie con un intervalo de tiempo y columnas indicados y agrupa la información por meses con el último día del mes\n",
        "print(df_volume) #imprime el DataFrame\n",
        "print('\\n---------------------- separate line--------------------\\n') #imprime línea de carcteres\n",
        "df_2017 = aapl_table.loc['2016-10':'2017-04',['Open', 'High', 'Low', 'Close']].resample('M').agg(lambda x: x[-1]) #crea la serie con un intervalo de tiempo y columnas indicados y agrupa la información por meses con el último día del mes\n",
        "print(df_2017) #imprime el DataFrame"
      ],
      "execution_count": 362,
      "outputs": [
        {
          "output_type": "stream",
          "name": "stdout",
          "text": [
            "               Volume  Stock Splits\n",
            "Date                               \n",
            "2016-10-31  105677600             0\n",
            "2016-11-30  144649200             0\n",
            "2016-12-31  122345200             0\n",
            "2017-01-31  196804000             0\n",
            "2017-02-28   93931600             0\n",
            "2017-03-31   78646800             0\n",
            "2017-04-30   83441600             0\n",
            "\n",
            "---------------------- separate line--------------------\n",
            "\n",
            "                 Open       High        Low      Close\n",
            "Date                                                  \n",
            "2016-10-31  26.573705  26.709322  26.468485  26.547985\n",
            "2016-11-30  26.228349  26.369361  25.915770  25.974525\n",
            "2016-12-31  27.415201  27.544461  27.128475  27.220133\n",
            "2017-01-31  28.472801  28.529205  28.348240  28.519804\n",
            "2017-02-28  32.356364  32.441338  32.266668  32.335121\n",
            "2017-03-31  33.923666  34.053488  33.756076  33.909504\n",
            "2017-04-30  34.011005  34.060575  33.817454  33.907146\n"
          ]
        }
      ]
    },
    {
      "cell_type": "markdown",
      "metadata": {
        "id": "iZk_C9aSSLeP"
      },
      "source": [
        "Now we merge the DataFrames with our DataFrame 'aapl_bar'"
      ]
    },
    {
      "cell_type": "code",
      "metadata": {
        "colab": {
          "base_uri": "https://localhost:8080/"
        },
        "id": "aFqmjokOHW-C",
        "outputId": "f735ac3d-ce55-4414-8886-2ca6d68229ad"
      },
      "source": [
        "concat = pd.concat([aapl_bar, df_volume], axis = 1) #Concatena los DataFrames indicados \n",
        "print(concat) #Imprime el DataFrame"
      ],
      "execution_count": 363,
      "outputs": [
        {
          "output_type": "stream",
          "name": "stdout",
          "text": [
            "                 Open        Low       High      Close  rate_return  \\\n",
            "Date                                                                  \n",
            "2016-01-31  21.792771  21.691612  22.379030  22.379030          NaN   \n",
            "2016-02-29  22.389512  22.340970  22.706192  22.350216    -0.001288   \n",
            "2016-03-31  25.362146  25.167976  25.403754  25.193403     0.127211   \n",
            "2016-04-30  21.726102  21.383996  21.894845  21.668314    -0.139921   \n",
            "2016-05-31  23.163050  22.981653  23.349099  23.223516     0.071773   \n",
            "2016-06-30  21.963036  21.930477  22.272340  22.232805    -0.042660   \n",
            "2016-07-31  24.230501  24.111894  24.314223  24.235151     0.090063   \n",
            "2016-08-31  24.705481  24.700804  24.918257  24.808361     0.023652   \n",
            "2016-09-30  26.295454  26.141133  26.508231  26.433409     0.065504   \n",
            "2016-10-31  26.573705  26.468485  26.709322  26.547985     0.004335   \n",
            "2016-11-30  26.228349  25.915770  26.369361  25.974525    -0.021601   \n",
            "2016-12-31  27.415201  27.128475  27.544461  27.220133     0.047955   \n",
            "2017-01-31        NaN        NaN        NaN        NaN          NaN   \n",
            "2017-02-28        NaN        NaN        NaN        NaN          NaN   \n",
            "2017-03-31        NaN        NaN        NaN        NaN          NaN   \n",
            "2017-04-30        NaN        NaN        NaN        NaN          NaN   \n",
            "\n",
            "                 Volume  Stock Splits  \n",
            "Date                                   \n",
            "2016-01-31          NaN           NaN  \n",
            "2016-02-29          NaN           NaN  \n",
            "2016-03-31          NaN           NaN  \n",
            "2016-04-30          NaN           NaN  \n",
            "2016-05-31          NaN           NaN  \n",
            "2016-06-30          NaN           NaN  \n",
            "2016-07-31          NaN           NaN  \n",
            "2016-08-31          NaN           NaN  \n",
            "2016-09-30          NaN           NaN  \n",
            "2016-10-31  105677600.0           0.0  \n",
            "2016-11-30  144649200.0           0.0  \n",
            "2016-12-31  122345200.0           0.0  \n",
            "2017-01-31  196804000.0           0.0  \n",
            "2017-02-28   93931600.0           0.0  \n",
            "2017-03-31   78646800.0           0.0  \n",
            "2017-04-30   83441600.0           0.0  \n"
          ]
        }
      ]
    },
    {
      "cell_type": "markdown",
      "metadata": {
        "id": "7yI3tgB4SR4O"
      },
      "source": [
        "By default the DataFrame are joined with all of the data. This default options results in zero information loss. We can also merge them by intersection, this is called 'inner join"
      ]
    },
    {
      "cell_type": "code",
      "metadata": {
        "colab": {
          "base_uri": "https://localhost:8080/"
        },
        "id": "31QGLyijHW-C",
        "outputId": "14d6d879-e365-4896-afe1-26ed6a7edf3d"
      },
      "source": [
        "concat = pd.concat([aapl_bar,df_volume],axis = 1, join = 'inner')  #Concatena los DataFrames indicados por intersección\n",
        "print(concat) #imprime el DataFrame"
      ],
      "execution_count": 364,
      "outputs": [
        {
          "output_type": "stream",
          "name": "stdout",
          "text": [
            "                 Open        Low       High      Close  rate_return  \\\n",
            "Date                                                                  \n",
            "2016-10-31  26.573705  26.468485  26.709322  26.547985     0.004335   \n",
            "2016-11-30  26.228349  25.915770  26.369361  25.974525    -0.021601   \n",
            "2016-12-31  27.415201  27.128475  27.544461  27.220133     0.047955   \n",
            "\n",
            "               Volume  Stock Splits  \n",
            "Date                                 \n",
            "2016-10-31  105677600             0  \n",
            "2016-11-30  144649200             0  \n",
            "2016-12-31  122345200             0  \n"
          ]
        }
      ]
    },
    {
      "cell_type": "markdown",
      "metadata": {
        "id": "oudcWMm5Sd0u"
      },
      "source": [
        "Only the intersection part was left if use 'inner join' method. Now let's try to append a DataFrame to another one:"
      ]
    },
    {
      "cell_type": "code",
      "metadata": {
        "colab": {
          "base_uri": "https://localhost:8080/"
        },
        "id": "lgw0qaOsHW-D",
        "outputId": "97d59963-4e04-4720-ec8f-fa3665102ad3"
      },
      "source": [
        "append = aapl_bar.append(df_2017) #Adjunta los DataFrames indicados\n",
        "print(append) #Imprime el DataFrame"
      ],
      "execution_count": 366,
      "outputs": [
        {
          "output_type": "stream",
          "name": "stdout",
          "text": [
            "                 Open        Low       High      Close  rate_return\n",
            "Date                                                               \n",
            "2016-01-31  21.792771  21.691612  22.379030  22.379030          NaN\n",
            "2016-02-29  22.389512  22.340970  22.706192  22.350216    -0.001288\n",
            "2016-03-31  25.362146  25.167976  25.403754  25.193403     0.127211\n",
            "2016-04-30  21.726102  21.383996  21.894845  21.668314    -0.139921\n",
            "2016-05-31  23.163050  22.981653  23.349099  23.223516     0.071773\n",
            "2016-06-30  21.963036  21.930477  22.272340  22.232805    -0.042660\n",
            "2016-07-31  24.230501  24.111894  24.314223  24.235151     0.090063\n",
            "2016-08-31  24.705481  24.700804  24.918257  24.808361     0.023652\n",
            "2016-09-30  26.295454  26.141133  26.508231  26.433409     0.065504\n",
            "2016-10-31  26.573705  26.468485  26.709322  26.547985     0.004335\n",
            "2016-11-30  26.228349  25.915770  26.369361  25.974525    -0.021601\n",
            "2016-12-31  27.415201  27.128475  27.544461  27.220133     0.047955\n",
            "2016-10-31  26.573705  26.468485  26.709322  26.547985          NaN\n",
            "2016-11-30  26.228349  25.915770  26.369361  25.974525          NaN\n",
            "2016-12-31  27.415201  27.128475  27.544461  27.220133          NaN\n",
            "2017-01-31  28.472801  28.348240  28.529205  28.519804          NaN\n",
            "2017-02-28  32.356364  32.266668  32.441338  32.335121          NaN\n",
            "2017-03-31  33.923666  33.756076  34.053488  33.909504          NaN\n",
            "2017-04-30  34.011005  33.817454  34.060575  33.907146          NaN\n"
          ]
        }
      ]
    },
    {
      "cell_type": "markdown",
      "metadata": {
        "id": "zXT6cMquSq_P"
      },
      "source": [
        "'Append' is essentially to concat two DataFrames by axis = 0, thus here is an alternative way to append:"
      ]
    },
    {
      "cell_type": "code",
      "metadata": {
        "colab": {
          "base_uri": "https://localhost:8080/"
        },
        "id": "2EuSaFO9HW-D",
        "outputId": "d4b57799-6597-419b-926e-ff7f3c425d0a"
      },
      "source": [
        "concat = pd.concat([aapl_bar, df_2017], axis = 0) #Concatena los DataFrames indicados con axis igualado a 0\n",
        "print(concat) #Imprime el DataFrame"
      ],
      "execution_count": 367,
      "outputs": [
        {
          "output_type": "stream",
          "name": "stdout",
          "text": [
            "                 Open        Low       High      Close  rate_return\n",
            "Date                                                               \n",
            "2016-01-31  21.792771  21.691612  22.379030  22.379030          NaN\n",
            "2016-02-29  22.389512  22.340970  22.706192  22.350216    -0.001288\n",
            "2016-03-31  25.362146  25.167976  25.403754  25.193403     0.127211\n",
            "2016-04-30  21.726102  21.383996  21.894845  21.668314    -0.139921\n",
            "2016-05-31  23.163050  22.981653  23.349099  23.223516     0.071773\n",
            "2016-06-30  21.963036  21.930477  22.272340  22.232805    -0.042660\n",
            "2016-07-31  24.230501  24.111894  24.314223  24.235151     0.090063\n",
            "2016-08-31  24.705481  24.700804  24.918257  24.808361     0.023652\n",
            "2016-09-30  26.295454  26.141133  26.508231  26.433409     0.065504\n",
            "2016-10-31  26.573705  26.468485  26.709322  26.547985     0.004335\n",
            "2016-11-30  26.228349  25.915770  26.369361  25.974525    -0.021601\n",
            "2016-12-31  27.415201  27.128475  27.544461  27.220133     0.047955\n",
            "2016-10-31  26.573705  26.468485  26.709322  26.547985          NaN\n",
            "2016-11-30  26.228349  25.915770  26.369361  25.974525          NaN\n",
            "2016-12-31  27.415201  27.128475  27.544461  27.220133          NaN\n",
            "2017-01-31  28.472801  28.348240  28.529205  28.519804          NaN\n",
            "2017-02-28  32.356364  32.266668  32.441338  32.335121          NaN\n",
            "2017-03-31  33.923666  33.756076  34.053488  33.909504          NaN\n",
            "2017-04-30  34.011005  33.817454  34.060575  33.907146          NaN\n"
          ]
        }
      ]
    },
    {
      "cell_type": "markdown",
      "metadata": {
        "id": "-YXL7V9ASst9"
      },
      "source": [
        "Please note that if the two DataFrame have some columns with the same column names, these columns are considered to be the same and will be merged. It's very important to have the right column names. If we change a column names here:"
      ]
    },
    {
      "cell_type": "code",
      "metadata": {
        "colab": {
          "base_uri": "https://localhost:8080/"
        },
        "id": "aT1eoa8mHW-D",
        "outputId": "12bb96a0-a57d-4a0c-d0a5-15866c1d1715"
      },
      "source": [
        "df_2017.columns = ['Change', 'High','Low','Close'] #Asigna las columnas indicadas al DataFrame\n",
        "concat = pd.concat([aapl_bar, df_2017], axis = 0) #Concatena los DataFrames indicados con axis igualado a 0\n",
        "print(concat) #Imprime el DataFrame"
      ],
      "execution_count": 368,
      "outputs": [
        {
          "output_type": "stream",
          "name": "stdout",
          "text": [
            "                 Open        Low       High      Close  rate_return     Change\n",
            "Date                                                                          \n",
            "2016-01-31  21.792771  21.691612  22.379030  22.379030          NaN        NaN\n",
            "2016-02-29  22.389512  22.340970  22.706192  22.350216    -0.001288        NaN\n",
            "2016-03-31  25.362146  25.167976  25.403754  25.193403     0.127211        NaN\n",
            "2016-04-30  21.726102  21.383996  21.894845  21.668314    -0.139921        NaN\n",
            "2016-05-31  23.163050  22.981653  23.349099  23.223516     0.071773        NaN\n",
            "2016-06-30  21.963036  21.930477  22.272340  22.232805    -0.042660        NaN\n",
            "2016-07-31  24.230501  24.111894  24.314223  24.235151     0.090063        NaN\n",
            "2016-08-31  24.705481  24.700804  24.918257  24.808361     0.023652        NaN\n",
            "2016-09-30  26.295454  26.141133  26.508231  26.433409     0.065504        NaN\n",
            "2016-10-31  26.573705  26.468485  26.709322  26.547985     0.004335        NaN\n",
            "2016-11-30  26.228349  25.915770  26.369361  25.974525    -0.021601        NaN\n",
            "2016-12-31  27.415201  27.128475  27.544461  27.220133     0.047955        NaN\n",
            "2016-10-31        NaN  26.468485  26.709322  26.547985          NaN  26.573705\n",
            "2016-11-30        NaN  25.915770  26.369361  25.974525          NaN  26.228349\n",
            "2016-12-31        NaN  27.128475  27.544461  27.220133          NaN  27.415201\n",
            "2017-01-31        NaN  28.348240  28.529205  28.519804          NaN  28.472801\n",
            "2017-02-28        NaN  32.266668  32.441338  32.335121          NaN  32.356364\n",
            "2017-03-31        NaN  33.756076  34.053488  33.909504          NaN  33.923666\n",
            "2017-04-30        NaN  33.817454  34.060575  33.907146          NaN  34.011005\n"
          ]
        }
      ]
    },
    {
      "cell_type": "markdown",
      "metadata": {
        "id": "shbpOFyyS6uV"
      },
      "source": [
        "Since the column name of 'Open' has been changed, the new DataFrame has an new column named 'Change'.\n",
        "\n",
        "# Summary\n",
        "\n",
        "Hereby we introduced the most import part of python: resampling and DataFrame manipulation. We only introduced the most commonly used method in Financial data analysis. There are also many methods used in data mining, which are also beneficial. You can always check the [Pandas](https://pandas.pydata.org/pandas-docs/stable/index.html) official documentations for help."
      ]
    }
  ]
}